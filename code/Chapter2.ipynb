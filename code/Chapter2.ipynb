{
  "nbformat": 4,
  "nbformat_minor": 0,
  "metadata": {
    "colab": {
      "provenance": []
    },
    "kernelspec": {
      "name": "python3",
      "display_name": "Python 3"
    },
    "language_info": {
      "name": "python"
    }
  },
  "cells": [
    {
      "cell_type": "markdown",
      "source": [
        "#ChatGPT: Your Python Coach\n",
        "## Chapter 2: Data Building Blocks\n",
        "\n",
        "\n",
        "**Explain with examples and outputs how data is represented in Python. Provide examples from comics characters to better understand the concept.**"
      ],
      "metadata": {
        "id": "gxpx1zPEhG7J"
      }
    },
    {
      "cell_type": "markdown",
      "source": [
        "In Python, data is represented by assigning values to variables. These values can be of different types, such as strings, integers, and booleans. Here are some examples using characters from comic books:"
      ],
      "metadata": {
        "id": "lV8R554nEB6H"
      }
    },
    {
      "cell_type": "code",
      "execution_count": null,
      "metadata": {
        "colab": {
          "base_uri": "https://localhost:8080/"
        },
        "id": "uUr-4nKWgnEq",
        "outputId": "9eec4d54-1246-47b8-85ee-38d5c9c632d5"
      },
      "outputs": [
        {
          "output_type": "stream",
          "name": "stdout",
          "text": [
            "Character: Spider-Man\n",
            "Age: 23\n",
            "Is villain? False\n"
          ]
        }
      ],
      "source": [
        "# Assigning a string to a variable\n",
        "hero = \"Spider-Man\"\n",
        "print(\"Character:\", hero)\n",
        "\n",
        "# Assigning an integer to a variable\n",
        "age = 23\n",
        "print(\"Age:\", age)\n",
        "\n",
        "# Assigning a boolean to a variable\n",
        "is_villain = False\n",
        "print(\"Is villain?\", is_villain)"
      ]
    },
    {
      "cell_type": "markdown",
      "source": [
        "Variables can also be assigned values of different types:"
      ],
      "metadata": {
        "id": "RMoCvZvv4C3f"
      }
    },
    {
      "cell_type": "code",
      "source": [
        "# Assigning a string to a variable and then changing it to an integer\n",
        "power = \"Spider-sense\"\n",
        "print(\"Power:\", power)\n",
        "\n",
        "power = 10\n",
        "print(\"Power:\", power)\n",
        "\n",
        "# Assigning a boolean to a variable and then changing it to a string\n",
        "is_hero = True\n",
        "print(\"Is hero?\", is_hero)\n",
        "\n",
        "is_hero = \"yes\"\n",
        "print(\"Is hero?\", is_hero) # Output: yes"
      ],
      "metadata": {
        "colab": {
          "base_uri": "https://localhost:8080/"
        },
        "id": "nf1nDgW74W_e",
        "outputId": "30f530a7-5c0f-4791-d8ec-4276322e5a00"
      },
      "execution_count": null,
      "outputs": [
        {
          "output_type": "stream",
          "name": "stdout",
          "text": [
            "Power: Spider-sense\n",
            "Power: 10\n",
            "Is hero? True\n",
            "Is hero? yes\n"
          ]
        }
      ]
    },
    {
      "cell_type": "markdown",
      "source": [
        "Python also allows for multiple assignment in a single line, like this:"
      ],
      "metadata": {
        "id": "FYz0ktfTEWah"
      }
    },
    {
      "cell_type": "code",
      "source": [
        "# Assigning multiple variables at once\n",
        "name, team, universe = \"Iron Man\", \"Avengers\", \"Marvel\"\n",
        "print(\"-\"*10)\n",
        "print(\"Character:\", name)\n",
        "print(\"Team:\", team)\n",
        "print(\"Universe:\", universe)\n",
        "\n",
        "# Update the values of a variable\n",
        "name, team, universe = \"Wonder Woman\", \"Justice League\", \"DC Comics\"\n",
        "\n",
        "print(\"-\"*10)\n",
        "print(\"Character:\", name)\n",
        "print(\"Team:\", team)\n",
        "print(\"Universe:\", universe)"
      ],
      "metadata": {
        "colab": {
          "base_uri": "https://localhost:8080/"
        },
        "id": "jQepxLcY4cVG",
        "outputId": "049c5cf7-8760-4b55-e22d-3cae287466f4"
      },
      "execution_count": null,
      "outputs": [
        {
          "output_type": "stream",
          "name": "stdout",
          "text": [
            "----------\n",
            "Character: Iron Man\n",
            "Team: Avengers\n",
            "Universe: Marvel\n",
            "----------\n",
            "Character: Wonder Woman\n",
            "Team: Justice League\n",
            "Universe: DC Comics\n"
          ]
        }
      ]
    },
    {
      "cell_type": "markdown",
      "source": [
        "**How can I know the type of a variable at a given point in the program?**"
      ],
      "metadata": {
        "id": "raaoJu_7ejk8"
      }
    },
    {
      "cell_type": "code",
      "source": [
        "name = \"Peter Parker\"\n",
        "age = 25\n",
        "height = 1.83\n",
        "is_spiderman = True\n",
        "\n",
        "print(\"Type of name:\", type(name))\n",
        "print(\"Type of age:\", type(age))\n",
        "print(\"Type of height:\", type(height))\n",
        "print(\"Type of is_spiderman:\", type(is_spiderman))\n",
        "\n",
        "# Change value (and type) of a variable\n",
        "is_spiderman = \"yes\"\n",
        "print(\"Type of is_spiderman:\", type(is_spiderman))\n"
      ],
      "metadata": {
        "colab": {
          "base_uri": "https://localhost:8080/"
        },
        "id": "r2Ba8ppDej6u",
        "outputId": "1285799a-ff1d-4aa9-862b-f1125cc15d30"
      },
      "execution_count": null,
      "outputs": [
        {
          "output_type": "stream",
          "name": "stdout",
          "text": [
            "Type of name: <class 'str'>\n",
            "Type of age: <class 'int'>\n",
            "Type of height: <class 'float'>\n",
            "Type of is_spiderman: <class 'bool'>\n",
            "Type of is_spiderman: <class 'str'>\n"
          ]
        }
      ]
    },
    {
      "cell_type": "markdown",
      "source": [
        "**How can a program get different types of input data from the user?**"
      ],
      "metadata": {
        "id": "xa7e6jBe0R2K"
      }
    },
    {
      "cell_type": "markdown",
      "source": [
        "Text input: The input() function can be used to get text input from the user. For example, in the Spider-Man comic, the program can ask the user to enter their name:"
      ],
      "metadata": {
        "id": "bZpnfYTN0Tdy"
      }
    },
    {
      "cell_type": "code",
      "source": [
        "name = input(\"What's your name? \")\n",
        "print(\"Hello, \" + name + \"!\")\n"
      ],
      "metadata": {
        "colab": {
          "base_uri": "https://localhost:8080/"
        },
        "id": "xX7mFson0c2T",
        "outputId": "b2c3f31a-e9cd-4f60-9e5d-c28b9d7b1502"
      },
      "execution_count": null,
      "outputs": [
        {
          "output_type": "stream",
          "name": "stdout",
          "text": [
            "What's your name? Peter\n",
            "Hello, Peter!\n"
          ]
        }
      ]
    },
    {
      "cell_type": "markdown",
      "source": [
        "Integer input: The int() function can be used to get integer input from the user. For example, in the X-Men comic, the program can ask the user to enter their age:"
      ],
      "metadata": {
        "id": "SKAcCiHU0gn-"
      }
    },
    {
      "cell_type": "code",
      "source": [
        "age = int(input(\"What's your age? \"))\n",
        "if age >= 18:\n",
        "    print(\"You're old enough to join the X-Men!\")\n",
        "else:\n",
        "    print(\"Sorry, you're not old enough to join the X-Men yet.\")\n"
      ],
      "metadata": {
        "colab": {
          "base_uri": "https://localhost:8080/"
        },
        "id": "3KLcnH8F0lEf",
        "outputId": "466071e1-02fb-41aa-e1b7-dade1989ecd9"
      },
      "execution_count": null,
      "outputs": [
        {
          "output_type": "stream",
          "name": "stdout",
          "text": [
            "What's your age? 20\n",
            "You're old enough to join the X-Men!\n"
          ]
        }
      ]
    },
    {
      "cell_type": "markdown",
      "source": [
        "Floating-point input: The float() function can be used to get floating-point input from the user. For example, in the Iron Man comic, the program can ask the user to enter the weight of their suit:"
      ],
      "metadata": {
        "id": "P8xLNFwG0wXV"
      }
    },
    {
      "cell_type": "code",
      "source": [
        "weight = float(input(\"What's the weight of your Iron Man suit (in pounds)? \"))\n",
        "print(\"Your suit weighs \" + str(weight) + \" pounds.\")\n"
      ],
      "metadata": {
        "colab": {
          "base_uri": "https://localhost:8080/"
        },
        "id": "C01lTfzA0zFt",
        "outputId": "820a7be4-3ed2-4b1e-bbfe-5d121438b2c1"
      },
      "execution_count": null,
      "outputs": [
        {
          "output_type": "stream",
          "name": "stdout",
          "text": [
            "What's the weight of your Iron Man suit (in pounds)? 500.5\n",
            "Your suit weighs 500.5 pounds.\n"
          ]
        }
      ]
    },
    {
      "cell_type": "markdown",
      "source": [
        "Boolean input: The bool() function can be used to get boolean input from the user. For example, in the Avengers comic, the program can ask the user if they want to join the team:"
      ],
      "metadata": {
        "id": "DlFExzDe08Xv"
      }
    },
    {
      "cell_type": "code",
      "source": [
        "answer = bool(input(\"Do you want to join the Avengers? (True/False) \"))\n",
        "if answer:\n",
        "    print(\"Welcome to the team!\")\n",
        "else:\n",
        "    print(\"Maybe next time.\")\n"
      ],
      "metadata": {
        "colab": {
          "base_uri": "https://localhost:8080/"
        },
        "id": "H7e_aVwZ0-7O",
        "outputId": "8e352d17-1990-4097-ad6c-8d9c3a1e4cda"
      },
      "execution_count": null,
      "outputs": [
        {
          "output_type": "stream",
          "name": "stdout",
          "text": [
            "Do you want to join the Avengers? (True/False) True\n",
            "Welcome to the team!\n"
          ]
        }
      ]
    },
    {
      "cell_type": "markdown",
      "source": [
        "**What are those if/else statements that you used in some of the previous examples? I can understand the basic idea, but can you provide a clear and concise explanation?**"
      ],
      "metadata": {
        "id": "dUXwXDT22UVj"
      }
    },
    {
      "cell_type": "markdown",
      "source": [
        "For example, let's say we want to write a program that checks the length of a string and prints out a message depending on whether the string is longer or shorter than a certain number of characters. We could use an if/else statement to do this:"
      ],
      "metadata": {
        "id": "Cj65EQ1b2XQH"
      }
    },
    {
      "cell_type": "code",
      "source": [
        "# Define a string\n",
        "hero = \"Mister Fantastic\"\n",
        "\n",
        "# Check the length of the string\n",
        "if len(hero) > 10:\n",
        "    print(\"The hero's name is really long!\")\n",
        "else:\n",
        "    print(\"The hero's name is pretty short.\")"
      ],
      "metadata": {
        "colab": {
          "base_uri": "https://localhost:8080/"
        },
        "id": "Xe3IcImO7VvJ",
        "outputId": "a457d394-5a7d-48a2-e38f-3831bbec933d"
      },
      "execution_count": null,
      "outputs": [
        {
          "output_type": "stream",
          "name": "stdout",
          "text": [
            "The hero's name is really long!\n"
          ]
        }
      ]
    },
    {
      "cell_type": "markdown",
      "source": [
        "**Provide some code exercises related to data type input and conversion, that I need to correct syntax or logic errors so that they can run properly.**"
      ],
      "metadata": {
        "id": "BMvGS7b7HlEk"
      }
    },
    {
      "cell_type": "markdown",
      "source": [
        "Here are four code exercises related to data type input and conversion, with syntax and/or logic errors that need to be corrected:"
      ],
      "metadata": {
        "id": "sn8LcNitN5Xk"
      }
    },
    {
      "cell_type": "code",
      "source": [
        "age = input(\"Please enter your age: \")\n",
        "if age >= 18:\n",
        "    print(\"You are old enough to vote!\")\n",
        "else:\n",
        "    print(\"You are not old enough to vote yet.\")\n"
      ],
      "metadata": {
        "colab": {
          "base_uri": "https://localhost:8080/",
          "height": 258
        },
        "id": "H5ZH5MGTIHUB",
        "outputId": "82907d41-5970-4bc2-9837-7aed7146be0a"
      },
      "execution_count": null,
      "outputs": [
        {
          "name": "stdout",
          "output_type": "stream",
          "text": [
            "Please enter your age: 17\n"
          ]
        },
        {
          "output_type": "error",
          "ename": "TypeError",
          "evalue": "ignored",
          "traceback": [
            "\u001b[0;31m---------------------------------------------------------------------------\u001b[0m",
            "\u001b[0;31mTypeError\u001b[0m                                 Traceback (most recent call last)",
            "\u001b[0;32m<ipython-input-10-b71f54d33b3e>\u001b[0m in \u001b[0;36m<cell line: 2>\u001b[0;34m()\u001b[0m\n\u001b[1;32m      1\u001b[0m \u001b[0mage\u001b[0m \u001b[0;34m=\u001b[0m \u001b[0minput\u001b[0m\u001b[0;34m(\u001b[0m\u001b[0;34m\"Please enter your age: \"\u001b[0m\u001b[0;34m)\u001b[0m\u001b[0;34m\u001b[0m\u001b[0;34m\u001b[0m\u001b[0m\n\u001b[0;32m----> 2\u001b[0;31m \u001b[0;32mif\u001b[0m \u001b[0mage\u001b[0m \u001b[0;34m>=\u001b[0m \u001b[0;36m18\u001b[0m\u001b[0;34m:\u001b[0m\u001b[0;34m\u001b[0m\u001b[0;34m\u001b[0m\u001b[0m\n\u001b[0m\u001b[1;32m      3\u001b[0m     \u001b[0mprint\u001b[0m\u001b[0;34m(\u001b[0m\u001b[0;34m\"You are old enough to vote!\"\u001b[0m\u001b[0;34m)\u001b[0m\u001b[0;34m\u001b[0m\u001b[0;34m\u001b[0m\u001b[0m\n\u001b[1;32m      4\u001b[0m \u001b[0;32melse\u001b[0m\u001b[0;34m:\u001b[0m\u001b[0;34m\u001b[0m\u001b[0;34m\u001b[0m\u001b[0m\n\u001b[1;32m      5\u001b[0m     \u001b[0mprint\u001b[0m\u001b[0;34m(\u001b[0m\u001b[0;34m\"You are not old enough to vote yet.\"\u001b[0m\u001b[0;34m)\u001b[0m\u001b[0;34m\u001b[0m\u001b[0;34m\u001b[0m\u001b[0m\n",
            "\u001b[0;31mTypeError\u001b[0m: '>=' not supported between instances of 'str' and 'int'"
          ]
        }
      ]
    },
    {
      "cell_type": "code",
      "source": [
        "number = input(\"Enter a decimal number: \")\n",
        "number = bool(number)\n",
        "print(f\"The integer part of the {number} is {number}\")\n"
      ],
      "metadata": {
        "colab": {
          "base_uri": "https://localhost:8080/"
        },
        "id": "h-jgyNJwILyA",
        "outputId": "8b3a5826-35bb-471d-de69-3ad416e5f6ea"
      },
      "execution_count": null,
      "outputs": [
        {
          "output_type": "stream",
          "name": "stdout",
          "text": [
            "Enter a decimal number: 3.1416\n",
            "The integer part of the True is True\n"
          ]
        }
      ]
    },
    {
      "cell_type": "code",
      "source": [
        "password = input(\"Please enter your password: \")\n",
        "if length(password) >= 8:\n",
        "    print(\"Your password is strong!\")\n",
        "else:\n",
        "    print(\"Your password is too short. Please choose a password that is at least 8 characters long.\")\n"
      ],
      "metadata": {
        "colab": {
          "base_uri": "https://localhost:8080/",
          "height": 258
        },
        "id": "pfh_ORuSIa9J",
        "outputId": "da1193f9-ed56-403a-d277-fa16e06ab52f"
      },
      "execution_count": null,
      "outputs": [
        {
          "name": "stdout",
          "output_type": "stream",
          "text": [
            "Please enter your password: 1234567890\n"
          ]
        },
        {
          "output_type": "error",
          "ename": "NameError",
          "evalue": "ignored",
          "traceback": [
            "\u001b[0;31m---------------------------------------------------------------------------\u001b[0m",
            "\u001b[0;31mNameError\u001b[0m                                 Traceback (most recent call last)",
            "\u001b[0;32m<ipython-input-12-13abfa72df4b>\u001b[0m in \u001b[0;36m<cell line: 2>\u001b[0;34m()\u001b[0m\n\u001b[1;32m      1\u001b[0m \u001b[0mpassword\u001b[0m \u001b[0;34m=\u001b[0m \u001b[0minput\u001b[0m\u001b[0;34m(\u001b[0m\u001b[0;34m\"Please enter your password: \"\u001b[0m\u001b[0;34m)\u001b[0m\u001b[0;34m\u001b[0m\u001b[0;34m\u001b[0m\u001b[0m\n\u001b[0;32m----> 2\u001b[0;31m \u001b[0;32mif\u001b[0m \u001b[0mlength\u001b[0m\u001b[0;34m(\u001b[0m\u001b[0mpassword\u001b[0m\u001b[0;34m)\u001b[0m \u001b[0;34m>=\u001b[0m \u001b[0;36m8\u001b[0m\u001b[0;34m:\u001b[0m\u001b[0;34m\u001b[0m\u001b[0;34m\u001b[0m\u001b[0m\n\u001b[0m\u001b[1;32m      3\u001b[0m     \u001b[0mprint\u001b[0m\u001b[0;34m(\u001b[0m\u001b[0;34m\"Your password is strong!\"\u001b[0m\u001b[0;34m)\u001b[0m\u001b[0;34m\u001b[0m\u001b[0;34m\u001b[0m\u001b[0m\n\u001b[1;32m      4\u001b[0m \u001b[0;32melse\u001b[0m\u001b[0;34m:\u001b[0m\u001b[0;34m\u001b[0m\u001b[0;34m\u001b[0m\u001b[0m\n\u001b[1;32m      5\u001b[0m     \u001b[0mprint\u001b[0m\u001b[0;34m(\u001b[0m\u001b[0;34m\"Your password is too short. Please choose a password that is at least 8 characters long.\"\u001b[0m\u001b[0;34m)\u001b[0m\u001b[0;34m\u001b[0m\u001b[0;34m\u001b[0m\u001b[0m\n",
            "\u001b[0;31mNameError\u001b[0m: name 'length' is not defined"
          ]
        }
      ]
    },
    {
      "cell_type": "code",
      "source": [
        "name = input(\"Please enter your name: \")\n",
        "age = input(\"Please enter your age: \")\n",
        "print(\"Hello, name! You are age years old.\")\n"
      ],
      "metadata": {
        "colab": {
          "base_uri": "https://localhost:8080/"
        },
        "id": "DMkYHI6FImQJ",
        "outputId": "5b530ca1-8a55-4bd2-98d0-6742db84d2fc"
      },
      "execution_count": null,
      "outputs": [
        {
          "output_type": "stream",
          "name": "stdout",
          "text": [
            "Please enter your name: John\n",
            "Please enter your age: 30\n",
            "Hello, name! You are age years old.\n"
          ]
        }
      ]
    },
    {
      "cell_type": "markdown",
      "source": [
        "**Below is the code I wrote to solve the Personal Bio exercise**\n"
      ],
      "metadata": {
        "id": "JaCprpxe9hZq"
      }
    },
    {
      "cell_type": "code",
      "source": [
        "\n",
        "name = input(\"What is your name? \")\n",
        "age = int(input(\"How old are you? \"))\n",
        "city = input(\"What city do you live in? \")\n",
        "hobby = input(\"What is your favorite hobby? \")\n",
        "food = input(\"What is your favorite food? \")\n",
        "color = input(\"What is your favorite color? \")\n",
        "credit_card = input(\"What is your credit card number? \")\n",
        "\n",
        "print('+'+'-'*20+'+')\n",
        "print(f\"|{'OPTIONS':^20}|\")\n",
        "print('+'+'-'*20+'+')\n",
        "print(f\"|{'1. Short Bio':^20}|\")\n",
        "print(f\"|{'2. Long Bio':^20}|\")\n",
        "print('+'+'-'*20+'+')\n",
        "\n",
        "choice = int(input(\"Enter choice number: \"))\n",
        "\n",
        "if choice == 1:\n",
        "    print(f\"\\n-------- Personal Bio for: {name} --------\")\n",
        "    print(f\"{name} is {age} years old and lives in {city}.\")\n",
        "    print(\"-----------------------------------------\")\n",
        "else:\n",
        "    print(f\"\\n------------------- Personal Bio for: {name} -------------------\")\n",
        "    print(f\"{name} is {age} years old and lives in {city}.\")\n",
        "    print(f\"In {name}'s free time, {name} enjoys {hobby} and eating {food}.\")\n",
        "    print(f\"A fun fact about {name} is that their favourite color is {color}.\")\n",
        "    print(f\"For your information, {name}'s credit card number is:\"+'*'*len(credit_card) )\n",
        "    print(\"------------------------------------------------------------\")\n"
      ],
      "metadata": {
        "colab": {
          "base_uri": "https://localhost:8080/"
        },
        "id": "5Tv8YXqF97Ia",
        "outputId": "e1877a32-6e25-4333-aea7-5e4a0dc225bf"
      },
      "execution_count": null,
      "outputs": [
        {
          "output_type": "stream",
          "name": "stdout",
          "text": [
            "What is your name? John\n",
            "How old are you? 30\n",
            "What city do you live in? London\n",
            "What is your favorite hobby? movies\n",
            "What is your favorite food? pasta\n",
            "What is your favorite color? red\n",
            "What is your credit card number? 1234-5678-90\n",
            "+--------------------+\n",
            "|      OPTIONS       |\n",
            "+--------------------+\n",
            "|    1. Short Bio    |\n",
            "|    2. Long Bio     |\n",
            "+--------------------+\n",
            "Enter choice number: 2\n",
            "\n",
            "------------------- Personal Bio for: John -------------------\n",
            "John is 30 years old and lives in London.\n",
            "In John's free time, John enjoys movies and eating pasta.\n",
            "A fun fact about John is that their favourite color is red.\n",
            "For your information, John's credit card number is:************\n",
            "------------------------------------------------------------\n"
          ]
        }
      ]
    },
    {
      "cell_type": "markdown",
      "source": [
        "**By the way, I like how you commented each section of your code; it helps to clarify things. Please do the same with my code.**"
      ],
      "metadata": {
        "id": "gAynj4RtJVe1"
      }
    },
    {
      "cell_type": "markdown",
      "source": [
        "Sure, here's your code with comments:"
      ],
      "metadata": {
        "id": "fg4xcwS7JaeD"
      }
    },
    {
      "cell_type": "code",
      "source": [
        "# Ask for user input on personal data\n",
        "name = input(\"What is your name? \")\n",
        "age = int(input(\"How old are you? \"))\n",
        "city = input(\"What city do you live in? \")\n",
        "hobby = input(\"What is your favorite hobby? \")\n",
        "food = input(\"What is your favorite food? \")\n",
        "color = input(\"What is your favorite color? \")\n",
        "credit_card = input(\"What is your credit card number? \")\n",
        "\n",
        "# Print the menu options\n",
        "print('+'+'-'*20+'+')\n",
        "print(f\"|{'OPTIONS':^20}|\")\n",
        "print('+'+'-'*20+'+')\n",
        "print(f\"|{'1. Short Bio':^20}|\")\n",
        "print(f\"|{'2. Long Bio':^20}|\")\n",
        "print('+'+'-'*20+'+')\n",
        "\n",
        "# Ask user to choose an option\n",
        "choice = int(input(\"Enter choice number: \"))\n",
        "\n",
        "# Print the chosen personal bio\n",
        "if choice == 1:\n",
        "    print(f\"\\n-------- Personal Bio for: {name} --------\")\n",
        "    print(f\"{name} is {age} years old and lives in {city}.\")\n",
        "    print(\"-----------------------------------------\")\n",
        "else:\n",
        "    print(f\"\\n------------------- Personal Bio for: {name} -------------------\")\n",
        "    print(f\"{name} is {age} years old and lives in {city}.\")\n",
        "    print(f\"In {name}'s free time, {name} enjoys {hobby} and eating {food}.\")\n",
        "    print(f\"A fun fact about {name} is that their favourite color is {color}.\")\n",
        "    print(f\"For your information, {name}'s credit card number is:\"+'*'*len(credit_card) )\n",
        "    print(\"------------------------------------------------------------\")\n"
      ],
      "metadata": {
        "id": "KEixZGYiJWrs"
      },
      "execution_count": null,
      "outputs": []
    },
    {
      "cell_type": "markdown",
      "source": [
        "Provide four code exercises related to data type input and conversion that I need to correct for syntax or logic errors so that they can run properly."
      ],
      "metadata": {
        "id": "-s14eBSR0KWs"
      }
    },
    {
      "cell_type": "markdown",
      "source": [
        "Exercise 1:"
      ],
      "metadata": {
        "id": "2wI7aToBVB9h"
      }
    },
    {
      "cell_type": "code",
      "source": [
        "age = input(\"Please enter your age: \")\n",
        "if age >= 18:\n",
        "    print(\"You are old enough to vote!\")\n",
        "else:\n",
        "    print(\"You are not old enough to vote yet.\")"
      ],
      "metadata": {
        "colab": {
          "base_uri": "https://localhost:8080/",
          "height": 258
        },
        "id": "U8Z8_iJ90WUF",
        "outputId": "81dd4a63-5e27-42e9-d2ef-2ca5878771cc"
      },
      "execution_count": 1,
      "outputs": [
        {
          "name": "stdout",
          "output_type": "stream",
          "text": [
            "Please enter your age: 40\n"
          ]
        },
        {
          "output_type": "error",
          "ename": "TypeError",
          "evalue": "ignored",
          "traceback": [
            "\u001b[0;31m---------------------------------------------------------------------------\u001b[0m",
            "\u001b[0;31mTypeError\u001b[0m                                 Traceback (most recent call last)",
            "\u001b[0;32m<ipython-input-1-989c843d2a48>\u001b[0m in \u001b[0;36m<cell line: 2>\u001b[0;34m()\u001b[0m\n\u001b[1;32m      1\u001b[0m \u001b[0mage\u001b[0m \u001b[0;34m=\u001b[0m \u001b[0minput\u001b[0m\u001b[0;34m(\u001b[0m\u001b[0;34m\"Please enter your age: \"\u001b[0m\u001b[0;34m)\u001b[0m\u001b[0;34m\u001b[0m\u001b[0;34m\u001b[0m\u001b[0m\n\u001b[0;32m----> 2\u001b[0;31m \u001b[0;32mif\u001b[0m \u001b[0mage\u001b[0m \u001b[0;34m>=\u001b[0m \u001b[0;36m18\u001b[0m\u001b[0;34m:\u001b[0m\u001b[0;34m\u001b[0m\u001b[0;34m\u001b[0m\u001b[0m\n\u001b[0m\u001b[1;32m      3\u001b[0m     \u001b[0mprint\u001b[0m\u001b[0;34m(\u001b[0m\u001b[0;34m\"You are old enough to vote!\"\u001b[0m\u001b[0;34m)\u001b[0m\u001b[0;34m\u001b[0m\u001b[0;34m\u001b[0m\u001b[0m\n\u001b[1;32m      4\u001b[0m \u001b[0;32melse\u001b[0m\u001b[0;34m:\u001b[0m\u001b[0;34m\u001b[0m\u001b[0;34m\u001b[0m\u001b[0m\n\u001b[1;32m      5\u001b[0m     \u001b[0mprint\u001b[0m\u001b[0;34m(\u001b[0m\u001b[0;34m\"You are not old enough to vote yet.\"\u001b[0m\u001b[0;34m)\u001b[0m\u001b[0;34m\u001b[0m\u001b[0;34m\u001b[0m\u001b[0m\n",
            "\u001b[0;31mTypeError\u001b[0m: '>=' not supported between instances of 'str' and 'int'"
          ]
        }
      ]
    },
    {
      "cell_type": "markdown",
      "source": [
        "Exercise 2:"
      ],
      "metadata": {
        "id": "H8OHalUnVDnE"
      }
    },
    {
      "cell_type": "code",
      "source": [
        "number = input(\"Enter a decimal number: \")\n",
        "number = bool(number)\n",
        "print(f\"The integer part of the {number} is {number}\")"
      ],
      "metadata": {
        "colab": {
          "base_uri": "https://localhost:8080/"
        },
        "id": "p0lJl9Oy55bH",
        "outputId": "45177e2b-26a3-4015-b795-31881e50d954"
      },
      "execution_count": 2,
      "outputs": [
        {
          "output_type": "stream",
          "name": "stdout",
          "text": [
            "Enter a decimal number: 3.14\n",
            "The integer part of the True is True\n"
          ]
        }
      ]
    },
    {
      "cell_type": "markdown",
      "source": [
        "Exercise 3:"
      ],
      "metadata": {
        "id": "kGmgtKLrVGT3"
      }
    },
    {
      "cell_type": "code",
      "source": [
        "password = input(\"Please enter your password: \")\n",
        "if length(password) >= 8:\n",
        "    print(\"Your password is strong!\")\n",
        "else:\n",
        "    print(\"Your password is too short. Please choose a password that is at least 8 characters long.\")"
      ],
      "metadata": {
        "colab": {
          "base_uri": "https://localhost:8080/",
          "height": 258
        },
        "id": "RmAPEpre6tlG",
        "outputId": "5b1dfb3d-8bcc-4b8e-b90a-c71492266c36"
      },
      "execution_count": 3,
      "outputs": [
        {
          "name": "stdout",
          "output_type": "stream",
          "text": [
            "Please enter your password: qwerty123\n"
          ]
        },
        {
          "output_type": "error",
          "ename": "NameError",
          "evalue": "ignored",
          "traceback": [
            "\u001b[0;31m---------------------------------------------------------------------------\u001b[0m",
            "\u001b[0;31mNameError\u001b[0m                                 Traceback (most recent call last)",
            "\u001b[0;32m<ipython-input-3-716e040591f6>\u001b[0m in \u001b[0;36m<cell line: 2>\u001b[0;34m()\u001b[0m\n\u001b[1;32m      1\u001b[0m \u001b[0mpassword\u001b[0m \u001b[0;34m=\u001b[0m \u001b[0minput\u001b[0m\u001b[0;34m(\u001b[0m\u001b[0;34m\"Please enter your password: \"\u001b[0m\u001b[0;34m)\u001b[0m\u001b[0;34m\u001b[0m\u001b[0;34m\u001b[0m\u001b[0m\n\u001b[0;32m----> 2\u001b[0;31m \u001b[0;32mif\u001b[0m \u001b[0mlength\u001b[0m\u001b[0;34m(\u001b[0m\u001b[0mpassword\u001b[0m\u001b[0;34m)\u001b[0m \u001b[0;34m>=\u001b[0m \u001b[0;36m8\u001b[0m\u001b[0;34m:\u001b[0m\u001b[0;34m\u001b[0m\u001b[0;34m\u001b[0m\u001b[0m\n\u001b[0m\u001b[1;32m      3\u001b[0m     \u001b[0mprint\u001b[0m\u001b[0;34m(\u001b[0m\u001b[0;34m\"Your password is strong!\"\u001b[0m\u001b[0;34m)\u001b[0m\u001b[0;34m\u001b[0m\u001b[0;34m\u001b[0m\u001b[0m\n\u001b[1;32m      4\u001b[0m \u001b[0;32melse\u001b[0m\u001b[0;34m:\u001b[0m\u001b[0;34m\u001b[0m\u001b[0;34m\u001b[0m\u001b[0m\n\u001b[1;32m      5\u001b[0m     \u001b[0mprint\u001b[0m\u001b[0;34m(\u001b[0m\u001b[0;34m\"Your password is too short. Please choose a password that is at least 8 characters long.\"\u001b[0m\u001b[0;34m)\u001b[0m\u001b[0;34m\u001b[0m\u001b[0;34m\u001b[0m\u001b[0m\n",
            "\u001b[0;31mNameError\u001b[0m: name 'length' is not defined"
          ]
        }
      ]
    },
    {
      "cell_type": "markdown",
      "source": [
        "Exercise 4:"
      ],
      "metadata": {
        "id": "rOXHOEr7VHyf"
      }
    },
    {
      "cell_type": "code",
      "source": [
        "name = input(\"Please enter your name: \")\n",
        "age = input(\"Please enter your age: \")\n",
        "print(\"Hello, name! You are age years old.\")"
      ],
      "metadata": {
        "colab": {
          "base_uri": "https://localhost:8080/"
        },
        "id": "t50ygTPS6vgl",
        "outputId": "c3b8ae7d-4a1d-4f7e-ddd3-d5627a22f7e8"
      },
      "execution_count": 5,
      "outputs": [
        {
          "output_type": "stream",
          "name": "stdout",
          "text": [
            "Please enter your name: Peter\n",
            "Please enter your age: 23\n",
            "Hello, name! You are age years old.\n"
          ]
        }
      ]
    },
    {
      "cell_type": "markdown",
      "source": [
        "*** END OF CHAPTER ***"
      ],
      "metadata": {
        "id": "T9Vw5ixTCXhv"
      }
    }
  ]
}