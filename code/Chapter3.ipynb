{
  "nbformat": 4,
  "nbformat_minor": 0,
  "metadata": {
    "colab": {
      "provenance": []
    },
    "kernelspec": {
      "name": "python3",
      "display_name": "Python 3"
    },
    "language_info": {
      "name": "python"
    }
  },
  "cells": [
    {
      "cell_type": "markdown",
      "source": [
        "#ChatGPT: Your Python Coach\n",
        "## Chapter 3: The Operations Room\n",
        "\n",
        "\n",
        "**Explain the details of arithmetic operators in Python in a colourful tone and include a single code example to illustrate the use of all the operators. The example should compare entertaining statistics about Marvel vs X-men movies and box office.**"
      ],
      "metadata": {
        "id": "gxpx1zPEhG7J"
      }
    },
    {
      "cell_type": "markdown",
      "source": [
        "Let's have some fun with these operators. Here's an example that compares some statistics about the Marvel vs X-Men movies and box office:"
      ],
      "metadata": {
        "id": "lV8R554nEB6H"
      }
    },
    {
      "cell_type": "code",
      "execution_count": null,
      "metadata": {
        "colab": {
          "base_uri": "https://localhost:8080/"
        },
        "id": "uUr-4nKWgnEq",
        "outputId": "d4b822e5-944a-43c2-c5dd-7eb08aa655c8"
      },
      "outputs": [
        {
          "output_type": "stream",
          "name": "stdout",
          "text": [
            "Total number of movies from both franchises: 41\n",
            "Marvel has 15 more movies than X-Men\n",
            "Total cost of watching all movies in the theater: US$ 615\n",
            "Average box office revenue per movie: US$ 696,585,365.85\n",
            "Time required to watch all movies (one per month): 3 years plus 5 months.\n"
          ]
        }
      ],
      "source": [
        "# Marvel and X-Men movie statistics\n",
        "marvel_movies = 28\n",
        "xmen_movies = 13\n",
        "marvel_box_office = 22.55e9  # in US dollars\n",
        "xmen_box_office = 6.01e9     # in US dollars\n",
        "single_ticket = 15           # in US dollars\n",
        "\n",
        "\n",
        "# Addition\n",
        "total_movies = marvel_movies + xmen_movies\n",
        "print(\"Total number of movies from both franchises:\", total_movies)\n",
        "\n",
        "# Subtraction\n",
        "difference_movies = marvel_movies - xmen_movies\n",
        "print(\"Marvel has\", difference_movies, \"more movies than X-Men\")\n",
        "\n",
        "# Multiplication\n",
        "money_needed = single_ticket * total_movies\n",
        "print(\"Total cost of watching all movies in the theatre: US$\", money_needed)\n",
        "\n",
        "# Division\n",
        "total_box_office = marvel_box_office + xmen_box_office\n",
        "average_box_office = total_box_office / total_movies\n",
        "print(f\"Average box office revenue per movie: US$ {average_box_office:,.2f}\")\n",
        "\n",
        "# Integer Division\n",
        "years_needed = total_movies // 12   # assuming watching 1 movie per month\n",
        "\n",
        "# Modulo\n",
        "plus_months_needed = total_movies % 12   # assuming watching 1 movie per month\n",
        "\n",
        "print(f\"Time required to watch all movies (one per month): {years_needed} years plus {plus_months_needed} months.\")"
      ]
    },
    {
      "cell_type": "markdown",
      "source": [
        "**Explain the details of comparison operators in Python in a colourful tone and include a single code example to illustrate the use of all of them, maybe using fun facts about football teams.**"
      ],
      "metadata": {
        "id": "gAynj4RtJVe1"
      }
    },
    {
      "cell_type": "markdown",
      "source": [
        "Let's illustrate the use of all these operators with a fun example about football teams! Imagine we have two teams, Real Madrid and Barcelona, and we want to compare some of their statistics."
      ],
      "metadata": {
        "id": "fg4xcwS7JaeD"
      }
    },
    {
      "cell_type": "code",
      "source": [
        "# Real Madrid statistics\n",
        "real_points = 70\n",
        "real_goals_scored = 76\n",
        "real_goals_conceded = 39\n",
        "real_goal_difference = real_goals_scored - real_goals_conceded\n",
        "\n",
        "# Barcelona statistics\n",
        "barca_points = 65\n",
        "barca_goals_scored = 85\n",
        "barca_goals_conceded = 38\n",
        "barca_goal_difference = barca_goals_scored - barca_goals_conceded\n",
        "\n",
        "# Comparison operators\n",
        "print(f\"Real Madrid ({real_points}) and Barcelona ({barca_points}) have equal points:\",\n",
        "      real_points == barca_points)\n",
        "print(f\"Real Madrid ({real_goals_scored}) and Barcelona ({barca_goals_scored}) have different goals scored:\",\n",
        "      real_goals_scored != barca_goals_scored)\n",
        "print(f\"Real Madrid ({real_goals_conceded}) has conceded fewer goals than Barcelona ({barca_goals_conceded}):\",\n",
        "      real_goals_conceded < barca_goals_conceded)\n",
        "print(f\"Real Madrid's goal difference ({real_goal_difference}) is less than or equal to Barcelona's goal difference ({barca_goal_difference}):\",\n",
        "      real_goal_difference <= barca_goal_difference)\n",
        "print(f\"Real Madrid ({real_points}) has more points than Barcelona ({barca_points}):\",\n",
        "      real_points > barca_points)\n",
        "print(f\"Barcelona ({barca_goals_conceded}) has conceded more goals than Real Madrid ({real_goals_conceded}):\",\n",
        "      barca_goals_conceded >= real_goals_conceded)\n"
      ],
      "metadata": {
        "id": "KEixZGYiJWrs",
        "colab": {
          "base_uri": "https://localhost:8080/"
        },
        "outputId": "60228e81-cc18-4ee5-807a-da9b4f93f7ce"
      },
      "execution_count": null,
      "outputs": [
        {
          "output_type": "stream",
          "name": "stdout",
          "text": [
            "Real Madrid (70) and Barcelona (65) have equal points: False\n",
            "Real Madrid (76) and Barcelona (85) have different goals scored: True\n",
            "Real Madrid (39) has conceded fewer goals than Barcelona (38): False\n",
            "Real Madrid's goal difference (37) is less than or equal to Barcelona's goal difference (47): True\n",
            "Real Madrid (70) has more points than Barcelona (65): True\n",
            "Barcelona (38) has conceded more goals than Real Madrid (39): False\n"
          ]
        }
      ]
    },
    {
      "cell_type": "markdown",
      "source": [
        "**Explain the concept of logical operators in Python in a casual tone. After defining each operator, include a single code example to illustrate the usage of all of them. Use a table of fast food dishes indicating how suitable are for vegetarians and vegans, for this purpose.**"
      ],
      "metadata": {
        "id": "RF1WR6MQ3DzY"
      }
    },
    {
      "cell_type": "markdown",
      "source": [
        "We can use logical operators to answer questions like \"Which dishes are suitable for both vegetarians and vegans?\" or \"Which dishes are not suitable for either vegetarians or vegans?\". Here's an example code to demonstrate the usage of logical operators:"
      ],
      "metadata": {
        "id": "tNc6hzDk3HYn"
      }
    },
    {
      "cell_type": "code",
      "source": [
        "# Define the boolean values\n",
        "# (cb: Cheeseburger, mp: Margherita Pizza, gs: Garden Salad, ic: Ice Cream)\n",
        "cb_veg = False\n",
        "cb_vegan = False\n",
        "mp_veg = True\n",
        "mp_vegan = False\n",
        "gs_veg = True\n",
        "gs_vegan = True\n",
        "ic_veg = True\n",
        "ic_vegan = False\n",
        "\n",
        "# Print the results of logical operators\n",
        "print(\"Is Cheeseburger both vegetarian and vegan? \", cb_veg and cb_vegan)\n",
        "print(\"Is Margherita Pizza both vegetarian and vegan? \", mp_veg and mp_vegan)\n",
        "print(\"Is Garden Salad both vegetarian and vegan? \", gs_veg and gs_vegan)\n",
        "print(\"Is Ice Cream both vegetarian and vegan? \", ic_veg and ic_vegan)\n",
        "print(\"Is Cheeseburger either vegetarian or vegan? \", cb_veg or cb_vegan)\n",
        "print(\"Is Margherita Pizza either vegetarian or vegan? \", mp_veg or mp_vegan)\n",
        "print(\"Is Garden Salad either vegetarian or vegan? \", gs_veg or gs_vegan)\n",
        "print(\"Is Ice Cream either vegetarian or vegan? \", ic_veg or ic_vegan)\n",
        "print(\"Is Cheeseburger not vegetarian? \", not cb_veg)\n",
        "print(\"Is Cheeseburger not vegan? \", not cb_vegan)"
      ],
      "metadata": {
        "colab": {
          "base_uri": "https://localhost:8080/"
        },
        "id": "pOUSq8hx3HlJ",
        "outputId": "4e15eafe-99bd-4db4-9597-ce2266c5ca06"
      },
      "execution_count": 2,
      "outputs": [
        {
          "output_type": "stream",
          "name": "stdout",
          "text": [
            "Is Cheeseburger both vegetarian and vegan?  False\n",
            "Is Margherita Pizza both vegetarian and vegan?  False\n",
            "Is Garden Salad both vegetarian and vegan?  True\n",
            "Is Ice Cream both vegetarian and vegan?  False\n",
            "Is Cheeseburger either vegetarian or vegan?  False\n",
            "Is Margherita Pizza either vegetarian or vegan?  True\n",
            "Is Garden Salad either vegetarian or vegan?  True\n",
            "Is Ice Cream either vegetarian or vegan?  True\n",
            "Is Cheeseburger not vegetarian?  True\n",
            "Is Cheeseburger not vegan?  True\n"
          ]
        }
      ]
    },
    {
      "cell_type": "markdown",
      "source": [
        "**Explain the concept of bitwise operators in Python in a friendly but professional tone. After defining each operator, include a code examples to illustrate the usage of all of them.**"
      ],
      "metadata": {
        "id": "sb0TKWl4IhdP"
      }
    },
    {
      "cell_type": "markdown",
      "source": [
        "bitwise AND:"
      ],
      "metadata": {
        "id": "rKfNX_z9-X8A"
      }
    },
    {
      "cell_type": "code",
      "source": [
        "a = 12  # 1100 in binary\n",
        "b = 25  # 11001 in binary\n",
        "c = a & b  # 1000 in binary\n",
        "print(f\"   {a:08b} (decimal: {a})\\n & {b:08b} (decimal: {b})\\n   --------\\n   {c:08b} (decimal: {c})\")"
      ],
      "metadata": {
        "colab": {
          "base_uri": "https://localhost:8080/"
        },
        "id": "HuhFwdqDIhzO",
        "outputId": "92f8823d-844e-4ecf-c680-1d2431f4af95"
      },
      "execution_count": null,
      "outputs": [
        {
          "output_type": "stream",
          "name": "stdout",
          "text": [
            "   00001100 (decimal: 12)\n",
            " & 00011001 (decimal: 25)\n",
            "   --------\n",
            "   00001000 (decimal: 8)\n"
          ]
        }
      ]
    },
    {
      "cell_type": "markdown",
      "source": [
        "bitwise OR:"
      ],
      "metadata": {
        "id": "wUV3Y6-S-Zkp"
      }
    },
    {
      "cell_type": "code",
      "source": [
        "a = 12  # 1100 in binary\n",
        "b = 25  # 11001 in binary\n",
        "c = a | b  # 11001 in binary\n",
        "print(f\"   {a:08b} (decimal: {a})\\n | {b:08b} (decimal: {b})\\n   --------\\n   {c:08b} (decimal: {c})\")"
      ],
      "metadata": {
        "colab": {
          "base_uri": "https://localhost:8080/"
        },
        "id": "sLfmUzcj73d7",
        "outputId": "879ae253-2de7-4ced-bea1-9e6f3ff83e17"
      },
      "execution_count": null,
      "outputs": [
        {
          "output_type": "stream",
          "name": "stdout",
          "text": [
            "   00001100 (decimal: 12)\n",
            " | 00011001 (decimal: 25)\n",
            "   --------\n",
            "   00011101 (decimal: 29)\n"
          ]
        }
      ]
    },
    {
      "cell_type": "markdown",
      "source": [
        "bitwise XOR:"
      ],
      "metadata": {
        "id": "I6xB-bSf-bMc"
      }
    },
    {
      "cell_type": "code",
      "source": [
        "a = 12  # 1100 in binary\n",
        "b = 25  # 11001 in binary\n",
        "c = a ^ b  # 10001 in binary\n",
        "print(f\"   {a:08b} (decimal: {a})\\n ^ {b:08b} (decimal: {b})\\n   --------\\n   {c:08b} (decimal: {c})\")"
      ],
      "metadata": {
        "colab": {
          "base_uri": "https://localhost:8080/"
        },
        "id": "eTJftpAQ8DA7",
        "outputId": "e14523fe-8d99-43a1-cf4e-9304a7d90da7"
      },
      "execution_count": null,
      "outputs": [
        {
          "output_type": "stream",
          "name": "stdout",
          "text": [
            "   00001100 (decimal: 12)\n",
            " ^ 00011001 (decimal: 25)\n",
            "   --------\n",
            "   00010101 (decimal: 21)\n"
          ]
        }
      ]
    },
    {
      "cell_type": "markdown",
      "source": [
        "bitwise NOT:"
      ],
      "metadata": {
        "id": "xo3z26Qa-dVg"
      }
    },
    {
      "cell_type": "code",
      "source": [
        "a = 12  # 1100 in binary\n",
        "c = ~a  # -13 in decimal (complement of 1100 in binary)\n",
        "print(f\" ~ {a:08b} (decimal: {a})\\n   --------\\n   {c:08b} (decimal: {c})\")"
      ],
      "metadata": {
        "colab": {
          "base_uri": "https://localhost:8080/"
        },
        "id": "LVqGWk2w8NkQ",
        "outputId": "cbca62a8-ec0b-453f-c932-d1f6b4559dda"
      },
      "execution_count": null,
      "outputs": [
        {
          "output_type": "stream",
          "name": "stdout",
          "text": [
            " ~ 00001100 (decimal: 12)\n",
            "   --------\n",
            "   -0001101 (decimal: -13)\n"
          ]
        }
      ]
    },
    {
      "cell_type": "markdown",
      "source": [
        "bitwise LEFT SHIFT:"
      ],
      "metadata": {
        "id": "xYHXEixT-ieJ"
      }
    },
    {
      "cell_type": "code",
      "source": [
        "a = 12  # 1100 in binary\n",
        "c = a << 3  # 110000 in binary, which is 96 in decimal\n",
        "print(f\"   {a:08b} (decimal: {a})\\n<< 3 \\n   --------\\n   {c:08b} (decimal: {c})\")"
      ],
      "metadata": {
        "colab": {
          "base_uri": "https://localhost:8080/"
        },
        "id": "zY_nrec98_e3",
        "outputId": "629da1df-e9da-49fd-a3f0-131cfb0afda9"
      },
      "execution_count": null,
      "outputs": [
        {
          "output_type": "stream",
          "name": "stdout",
          "text": [
            "   00001100 (decimal: 12)\n",
            "<< 3 \n",
            "   --------\n",
            "   01100000 (decimal: 96)\n"
          ]
        }
      ]
    },
    {
      "cell_type": "markdown",
      "source": [
        "bitwise RIGHT SHIFT:"
      ],
      "metadata": {
        "id": "Eo7RnqNF-m8l"
      }
    },
    {
      "cell_type": "code",
      "source": [
        "a = 12  # 1100 in binary\n",
        "c = a >> 3  # 11 in binary, which is 1 in decimal\n",
        "print(f\"   {a:08b} (decimal: {a})\\n>> 3 \\n   --------\\n   {c:08b} (decimal: {c})\")"
      ],
      "metadata": {
        "colab": {
          "base_uri": "https://localhost:8080/"
        },
        "id": "OnZe5yJ29NwC",
        "outputId": "a5c7f217-90f0-4464-9724-61bf6d772e13"
      },
      "execution_count": null,
      "outputs": [
        {
          "output_type": "stream",
          "name": "stdout",
          "text": [
            "   00001100 (decimal: 12)\n",
            ">> 3 \n",
            "   --------\n",
            "   00000001 (decimal: 1)\n"
          ]
        }
      ]
    },
    {
      "cell_type": "markdown",
      "source": [
        "**Explain the concept of arithmetic assignment operators in Python in a playful manner.**"
      ],
      "metadata": {
        "id": "A6x0Jm7sUwe4"
      }
    },
    {
      "cell_type": "markdown",
      "source": [
        "Suppose you have a piggy bank full of coins. Assume this piggy bank is a modern magic device that allows you to earn 10\\% interest on the money you save each month:"
      ],
      "metadata": {
        "id": "_H_GTUYrXAxW"
      }
    },
    {
      "cell_type": "code",
      "source": [
        "piggy_bank = 10\n",
        "print(\"Money now in the piggy_bank:\\t$ \", piggy_bank)\n",
        "piggy_bank *= 1.1\n",
        "print(\"Money one month later:\\t\\t$ \", piggy_bank)\n"
      ],
      "metadata": {
        "colab": {
          "base_uri": "https://localhost:8080/"
        },
        "id": "1fJapQe7MppP",
        "outputId": "6fd1c3d7-56d8-4329-a389-f476f3728d75"
      },
      "execution_count": null,
      "outputs": [
        {
          "output_type": "stream",
          "name": "stdout",
          "text": [
            "Money now in the piggy_bank:\t$  10\n",
            "Money one month later:\t\t$  11.0\n"
          ]
        }
      ]
    },
    {
      "cell_type": "markdown",
      "source": [
        "Here are some other examples of arithmetic assignment operators in Python:"
      ],
      "metadata": {
        "id": "4-IR5yrrU0IV"
      }
    },
    {
      "cell_type": "code",
      "source": [
        "x = 10\n",
        "x += 5  # equivalent to x = x + 5\n",
        "print(x)  # Output: 15\n",
        "\n",
        "y = 20\n",
        "y -= 3  # equivalent to y = y - 3\n",
        "print(y)  # Output: 17\n",
        "\n",
        "z = 7\n",
        "z *= 2  # equivalent to z = z * 2\n",
        "print(z)  # Output: 14\n",
        "\n",
        "a = 16\n",
        "a /= 4  # equivalent to a = a / 4\n",
        "print(a)  # Output: 4.0\n",
        "\n",
        "b = 5\n",
        "b %= 2  # equivalent to b = b % 2\n",
        "print(b)  # Output: 1"
      ],
      "metadata": {
        "colab": {
          "base_uri": "https://localhost:8080/"
        },
        "id": "he7d0qrZU4MW",
        "outputId": "6814bc2e-f0a3-41fb-8f41-656f6a15a66d"
      },
      "execution_count": null,
      "outputs": [
        {
          "output_type": "stream",
          "name": "stdout",
          "text": [
            "15\n",
            "17\n",
            "14\n",
            "4.0\n",
            "1\n"
          ]
        }
      ]
    },
    {
      "cell_type": "markdown",
      "source": [
        "**Explain the concept of identity operators in Python in a playful manner.**"
      ],
      "metadata": {
        "id": "ng3BPgTb88C3"
      }
    },
    {
      "cell_type": "markdown",
      "source": [
        "Let's see an example. In this code, we define  variables with the names of characters from the Cars movie. We then use the identity operators to compare them:"
      ],
      "metadata": {
        "id": "KTuxSHV09A9m"
      }
    },
    {
      "cell_type": "code",
      "source": [
        "# Define the cars\n",
        "mcqueen = \"Lightning McQueen\"\n",
        "doc = \"Doc Hudson\"\n",
        "mater = \"Tow Mater\"\n",
        "\n",
        "# Use identity operators to compare the cars\n",
        "print(f\"{mcqueen} is {doc}: \", mcqueen is doc)\n",
        "print(f\"{mcqueen} is not {mater}: \", mcqueen is not mater)\n",
        "\n",
        "# Assign one variable to the other\n",
        "mcqueen = doc\n",
        "print(f\"After assigning, {mcqueen} is {doc}: \", mcqueen is doc)\n",
        "\n",
        "# Check if a car is None\n",
        "sally = None\n",
        "print(f\"{sally} is None: \", sally is None)\n",
        "\n",
        "sally = \"Sally Carrera\"\n",
        "print(f\"After assigning, {sally} is None: \", sally is None)"
      ],
      "metadata": {
        "colab": {
          "base_uri": "https://localhost:8080/"
        },
        "id": "1_G0MXtE9KiN",
        "outputId": "f19a20b8-0258-46db-f5d4-7b0a655339e2"
      },
      "execution_count": null,
      "outputs": [
        {
          "output_type": "stream",
          "name": "stdout",
          "text": [
            "Lightning McQueen is Doc Hudson:  False\n",
            "Lightning McQueen is not Tow Mater:  True\n",
            "After assigning, Doc Hudson is Doc Hudson:  True\n",
            "None is None:  True\n",
            "After assigning, Sally Carrera is None:  False\n"
          ]
        }
      ]
    },
    {
      "cell_type": "markdown",
      "source": [
        "**Explain the concept of memberships operators in Python in a playful manner.**"
      ],
      "metadata": {
        "id": "pnncozvbFiAH"
      }
    },
    {
      "cell_type": "markdown",
      "source": [
        "In this example, the code checks if the letter \"A\" is the first letter of any of the names (assuming the first letter of a name is uppercase):"
      ],
      "metadata": {
        "id": "u8piXJthFqTD"
      }
    },
    {
      "cell_type": "code",
      "source": [
        "name = \"Alice\"\n",
        "another_name = \"Bob\"\n",
        "letter = 'A'\n",
        "print(f\"{name} starts with {letter}: \", letter in name)\n",
        "print(f\"{another_name} starts with {letter}: \", letter in another_name)"
      ],
      "metadata": {
        "colab": {
          "base_uri": "https://localhost:8080/"
        },
        "id": "X-Sy-VW8Fkei",
        "outputId": "4bbf5069-08cb-4363-fbdb-52d8b9109018"
      },
      "execution_count": null,
      "outputs": [
        {
          "output_type": "stream",
          "name": "stdout",
          "text": [
            "Alice starts with A:  True\n",
            "Bob starts with A:  False\n"
          ]
        }
      ]
    },
    {
      "cell_type": "markdown",
      "source": [
        "The second membership operator is \"not in\", which checks whether a given value is not present in a larger string or not. The value can be a letter or a sequence of letters. For example:"
      ],
      "metadata": {
        "id": "fSuHnH7VILJ2"
      }
    },
    {
      "cell_type": "code",
      "source": [
        "sentence1 = \"Java is fun!\"\n",
        "sentence2 = \"Java is fun, but Python is really fantastic!\"\n",
        "language = \"Python\"\n",
        "\n",
        "print(f\"'{language}' is not in '{sentence1}': \", language not in sentence1)\n",
        "print(f\"'{language}' is not in '{sentence2}': \", language not in sentence2)\n"
      ],
      "metadata": {
        "colab": {
          "base_uri": "https://localhost:8080/"
        },
        "id": "4Be4u-alG7x0",
        "outputId": "75458393-14e9-4c6a-833d-ccbc771f97d3"
      },
      "execution_count": null,
      "outputs": [
        {
          "output_type": "stream",
          "name": "stdout",
          "text": [
            "'Python' is not in 'Java is fun!':  True\n",
            "'Python' is not in 'Java is fun, but Python is really fantastic!':  False\n"
          ]
        }
      ]
    },
    {
      "cell_type": "markdown",
      "source": [
        "**Explain the concept of exponentiation operator in Python in a playful manner.**"
      ],
      "metadata": {
        "id": "ZLAKFuNuLCSm"
      }
    },
    {
      "cell_type": "markdown",
      "source": [
        "Here's an example of using the exponentiation operator:"
      ],
      "metadata": {
        "id": "_81n04yqLE38"
      }
    },
    {
      "cell_type": "code",
      "source": [
        "# Calculating the area of a square with side length 5\n",
        "area = 5 ** 2\n",
        "print(area) # Output: 25"
      ],
      "metadata": {
        "colab": {
          "base_uri": "https://localhost:8080/"
        },
        "id": "hgY6FyMALRba",
        "outputId": "b2ae40fe-6bfe-421d-a0cf-7bb9217102e7"
      },
      "execution_count": null,
      "outputs": [
        {
          "output_type": "stream",
          "name": "stdout",
          "text": [
            "25\n"
          ]
        }
      ]
    },
    {
      "cell_type": "markdown",
      "source": [
        "**How can I program more complex math operations such as square roots, logarithms, and so on?**"
      ],
      "metadata": {
        "id": "kMPARjOSOrC1"
      }
    },
    {
      "cell_type": "markdown",
      "source": [
        "Python provides a built-in module called \\code{math} that offers many functions for performing complex mathematical operations. Here are a few examples:"
      ],
      "metadata": {
        "id": "c7xv5iY-OvqY"
      }
    },
    {
      "cell_type": "code",
      "source": [
        "# Import the built-in math module for various mathematical operations\n",
        "import math\n",
        "\n",
        "# Calculate the square root of a number\n",
        "num = 25\n",
        "sqrt_num = math.sqrt(num)  # Use the sqrt() function to calculate the square root\n",
        "print(f\"The square root of {num} is {sqrt_num}\")\n",
        "\n",
        "# Calculate the logarithm of a number with base 10\n",
        "num2 = 1000\n",
        "log_num2 = math.log10(num2)  # Use the log10() function to calculate the base 10 logarithm\n",
        "print(f\"The base 10 logarithm of {num2} is {log_num2}\")\n",
        "\n",
        "# Get the value of pi, a mathematical constant\n",
        "pi = math.pi\n",
        "print(f\"The value of pi is {pi}\")\n",
        "\n",
        "# Convert degrees to radians\n",
        "deg = 45\n",
        "rad = math.radians(deg)  # Use the radians() function to convert degrees to radians\n",
        "print(f\"{deg} degrees is equal to {rad} radians\")\n",
        "\n",
        "# Calculate the sine of an angle in radians\n",
        "angle = math.pi / 4\n",
        "sin_angle = math.sin(angle)  # Use the sin() function to calculate the sine of the angle\n",
        "print(f\"The sine of {angle} radians is {sin_angle}\")"
      ],
      "metadata": {
        "colab": {
          "base_uri": "https://localhost:8080/"
        },
        "id": "aEa8MLkiOspH",
        "outputId": "e32f3e55-176f-474a-da90-d716934d54ea"
      },
      "execution_count": null,
      "outputs": [
        {
          "output_type": "stream",
          "name": "stdout",
          "text": [
            "The square root of 25 is 5.0\n",
            "The base 10 logarithm of 1000 is 3.0\n",
            "The value of pi is 3.141592653589793\n",
            "45 degrees is equal to 0.7853981633974483 radians\n",
            "The sine of 0.7853981633974483 radians is 0.7071067811865475\n"
          ]
        }
      ]
    },
    {
      "cell_type": "markdown",
      "source": [
        "*** END OF CHAPTER ***"
      ],
      "metadata": {
        "id": "T9Vw5ixTCXhv"
      }
    }
  ]
}