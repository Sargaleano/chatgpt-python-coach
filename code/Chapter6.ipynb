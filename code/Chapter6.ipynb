{
  "cells": [
    {
      "cell_type": "markdown",
      "metadata": {
        "id": "gxpx1zPEhG7J"
      },
      "source": [
        "#ChatGPT: Your Python Coach \n",
        "## Chapter 6: Modular Affairs\n",
        "\n",
        "\n",
        "**So let's start with some code examples to see functions in action! Consider using social networking-related ideas to illustrate the items you listed previously. Feel free to use entertaining Harry Potter trivia and random features.**"
      ]
    },
    {
      "cell_type": "markdown",
      "metadata": {
        "id": "lV8R554nEB6H"
      },
      "source": [
        "Certainly! See the examples below.\n",
        "\n",
        "\n",
        "Specialised Solvers:"
      ]
    },
    {
      "cell_type": "code",
      "execution_count": 5,
      "metadata": {
        "colab": {
          "base_uri": "https://localhost:8080/"
        },
        "id": "uUr-4nKWgnEq",
        "outputId": "f1b9e7d0-0d35-406e-9850-496408e7693c"
      },
      "outputs": [
        {
          "output_type": "stream",
          "name": "stdout",
          "text": [
            "\n",
            "=== Tagging a friend ===\n",
            "You tagged a friend: David\n",
            "You tagged a friend: Alice\n",
            "You tagged a friend: David\n",
            "You tagged a friend: Eve\n",
            "You tagged a friend: Eve\n",
            "\n",
            "=== Get notification ===\n",
            "New notification received at: 09/Jun/2023 02:49:37\n",
            "New notification received at: 09/Jun/2023 02:49:45\n",
            "New notification received at: 09/Jun/2023 02:49:51\n"
          ]
        }
      ],
      "source": [
        "import random\n",
        "\n",
        "# Define a function to randomly tag a friend using the 'def' statement\n",
        "def tag_friend():\n",
        "    friends = [\"Alice\", \"Bob\", \"Charlie\", \"David\", \"Eve\"]\n",
        "    tagged_friend = random.choice(friends)\n",
        "    \n",
        "    # Display the result\n",
        "    print(\"You tagged a friend:\", tagged_friend)\n",
        "\n",
        "# Usage\n",
        "print(\"\\n=== Tagging a friend ===\")\n",
        "for _ in range(5):\n",
        "    tag_friend()\n",
        "\n",
        "import datetime, time\n",
        "\n",
        "# Define a function to get the notification datetime\n",
        "def get_notification_datetime():\n",
        "    current_datetime = datetime.datetime.now()\n",
        "    notification_datetime = current_datetime.strftime(\"%d/%b/%Y %H:%M:%S\")\n",
        "    \n",
        "    # Display the result\n",
        "    print(\"New notification received at:\", notification_datetime)\n",
        "    time.sleep(random.randint(0, 10))  # Wait a number of seconds before the next call\n",
        "\n",
        "# Usage\n",
        "print(\"\\n=== Get notification ===\")\n",
        "for _ in range(3):\n",
        "    get_notification_datetime()"
      ]
    },
    {
      "cell_type": "markdown",
      "metadata": {
        "id": "XLImC25QRdI-"
      },
      "source": [
        "Returns:"
      ]
    },
    {
      "cell_type": "code",
      "execution_count": 5,
      "metadata": {
        "colab": {
          "base_uri": "https://localhost:8080/"
        },
        "id": "DmpNDZDJRibA",
        "outputId": "80fa66b6-354e-4540-d6d7-4c490258e433"
      },
      "outputs": [
        {
          "output_type": "stream",
          "name": "stdout",
          "text": [
            "==== User Information ====\n",
            "Name: Harry Potter\n",
            "Age: 17\n",
            "Picture: https://twitter.com/Official_HPWiki/photo\n",
            "Friends Count: 4\n"
          ]
        }
      ],
      "source": [
        "# Example 1: Get User Information\n",
        "def get_user_info():\n",
        "    # Simulate retrieving some user information from a social media platform\n",
        "    name = \"Harry Potter\"\n",
        "    age = 17\n",
        "    return name, age\n",
        "\n",
        "# Example 2: Get Profile Picture\n",
        "def get_profile_picture():\n",
        "    # Simulate retrieving the user's profile picture\n",
        "    picture_url = \"https://twitter.com/Official_HPWiki/photo\"\n",
        "    return picture_url\n",
        "\n",
        "# Example 3: Get Friends Count\n",
        "def get_friends_count():\n",
        "    # Simulate retrieving the number of friends in the user network\n",
        "    friends = [\"Hermione\", \"Ron\", \"Neville\", \"Luna\"]\n",
        "    return len(friends)\n",
        "\n",
        "# Main function\n",
        "def main():\n",
        "    # Get user profile data\n",
        "    name, age = get_user_info()\n",
        "    picture_url = get_profile_picture()\n",
        "    friends_count = get_friends_count()\n",
        "    \n",
        "    # Display user profile\n",
        "    print(\"==== User Information ====\")\n",
        "    print(\"Name:\", name)\n",
        "    print(\"Age:\", age)\n",
        "    print(\"Picture:\", picture_url)\n",
        "    print(\"Friends Count:\", friends_count)\n",
        "\n",
        "# Call the main function\n",
        "main()"
      ]
    },
    {
      "cell_type": "markdown",
      "metadata": {
        "id": "fg4xcwS7JaeD"
      },
      "source": [
        "Parameters:"
      ]
    },
    {
      "cell_type": "code",
      "execution_count": 15,
      "metadata": {
        "colab": {
          "base_uri": "https://localhost:8080/"
        },
        "id": "KEixZGYiJWrs",
        "outputId": "8f44fed4-2553-45b6-e3ec-6fe5e025c88f"
      },
      "outputs": [
        {
          "output_type": "stream",
          "name": "stdout",
          "text": [
            "--------------------------------- Post ID: 789 ---------------------------------\n",
            "It is our choices, Harry, that show what we truly are, far more than our abilities.\n",
            "--------------------------------------------------------------------------------\n",
            "Ron Weasley liked post with ID 789\n",
            "Luna Lovegood commented on post with ID 789: Such wisdom in those words.\n",
            "[Ron Weasley] has sent a friend request to [Ron Weasley]\n",
            "\n",
            "--------------------------------- Post ID: 123 ---------------------------------\n",
            "I solemnly swear that I am up to no good.\n",
            "--------------------------------------------------------------------------------\n",
            "Luna Lovegood liked post with ID 123\n",
            "Luna Lovegood commented on post with ID 123: Such wisdom in those words.\n",
            "[Luna Lovegood] has sent a friend request to [Hermione Granger]\n",
            "\n",
            "--------------------------------- Post ID: 456 ---------------------------------\n",
            "Happiness can be found, even in the darkest of times, if one only remembers to turn on the light.\n",
            "--------------------------------------------------------------------------------\n",
            "Hermione Granger liked post with ID 456\n",
            "Luna Lovegood commented on post with ID 456: Such wisdom in those words.\n",
            "[Hermione Granger] has sent a friend request to [Ron Weasley]\n",
            "\n",
            "------------------------------- Post ID: 101112 --------------------------------\n",
            "We've all got both light and dark inside us. What matters is the part we choose to act on.\n",
            "--------------------------------------------------------------------------------\n",
            "Luna Lovegood liked post with ID 101112\n",
            "Harry Potter commented on post with ID 101112: I'm glad these quotes resonate with everyone.\n",
            "[Luna Lovegood] has sent a friend request to [Hermione Granger]\n",
            "\n",
            "--------------------------------- Post ID: 123 ---------------------------------\n",
            "I solemnly swear that I am up to no good.\n",
            "--------------------------------------------------------------------------------\n",
            "Luna Lovegood liked post with ID 123\n",
            "Hermione Granger commented on post with ID 123: That's a brilliant quote!\n",
            "[Luna Lovegood] has sent a friend request to [Harry Potter]\n",
            "\n"
          ]
        }
      ],
      "source": [
        "import random\n",
        "\n",
        "# Pre-built lists of users, posts, IDs, and comments\n",
        "users = [\"Harry Potter\", \"Hermione Granger\", \"Ron Weasley\", \"Luna Lovegood\"]\n",
        "posts = {\n",
        "    123: \"I solemnly swear that I am up to no good.\",\n",
        "    456: \"Happiness can be found, even in the darkest of times, if one only remembers to turn on the light.\",\n",
        "    789: \"It is our choices, Harry, that show what we truly are, far more than our abilities.\",\n",
        "    101112: \"We've all got both light and dark inside us. What matters is the part we choose to act on.\",\n",
        "}\n",
        "comments = [\n",
        "    (\"Hermione Granger\", \"That's a brilliant quote!\"),\n",
        "    (\"Ron Weasley\", \"Couldn't agree more, mate!\"),\n",
        "    (\"Luna Lovegood\", \"Such wisdom in those words.\"),\n",
        "    (\"Harry Potter\", \"I'm glad these quotes resonate with everyone.\"),\n",
        "]\n",
        "\n",
        "# Function to send friend request\n",
        "def send_friend_request(sender, receiver):\n",
        "    print(f\"[{sender}] has sent a friend request to [{receiver}]\")\n",
        "\n",
        "# Function to print a post\n",
        "def print_post(post_id):\n",
        "    # print(f\"{'Post ID:' % post_id:{'-'}{'^'}{80}}\")\n",
        "    label = ' Post ID: %s ' % (post_id)\n",
        "    print(f\"{label:{'-'}{'^'}{80}}\")\n",
        "    print(f\"{posts[post_id]}\")\n",
        "    print('-'*80)\n",
        "\n",
        "# Function to like a post\n",
        "def like_post(user, post_id):\n",
        "    print(f\"{user} liked post with ID {post_id}\")\n",
        "\n",
        "# Function to comment on a post\n",
        "def comment_on_post(user, post_id, comment):\n",
        "    print(f\"{user} commented on post with ID {post_id}: {comment}\")\n",
        "\n",
        "# Main function\n",
        "def main():\n",
        "    # Repeat actions multiple times\n",
        "    for _ in range(5):\n",
        "        sender = random.choice(users)\n",
        "        receiver = random.choice(users)\n",
        "        post_id = random.choice([key for key in posts.keys()])\n",
        "        commenter, comment = random.choice(comments)\n",
        "\n",
        "        print_post(post_id)\n",
        "        like_post(sender, post_id)\n",
        "        comment_on_post(commenter, post_id, comment)\n",
        "        send_friend_request(sender, receiver)\n",
        "        print()\n",
        "\n",
        "# Call the main function\n",
        "main()"
      ]
    },
    {
      "cell_type": "markdown",
      "metadata": {
        "id": "fd32-WMpLwhg"
      },
      "source": [
        "Lambda Functions:"
      ]
    },
    {
      "cell_type": "code",
      "execution_count": 4,
      "metadata": {
        "colab": {
          "base_uri": "https://localhost:8080/"
        },
        "id": "tdHj_OF2LxoO",
        "outputId": "5811c0d6-4c97-430a-daab-5bad548317d6"
      },
      "outputs": [
        {
          "output_type": "stream",
          "name": "stdout",
          "text": [
            "\n",
            "=== Sorted Friends by Name Length ===\n",
            "Ron Weasley (11)\n",
            "Harry Potter (12)\n",
            "Draco Malfoy (12)\n",
            "Hermione Granger (16)\n",
            "\n",
            "=== Friends with Names Starting with 'H' ===\n",
            "Harry Potter\n",
            "Hermione Granger\n"
          ]
        }
      ],
      "source": [
        "# Example 1: Sorting friends by name length\n",
        "friends = [\"Harry Potter\", \"Hermione Granger\", \"Ron Weasley\", \"Draco Malfoy\"]\n",
        "\n",
        "# Sort the friends list based on the length of their names using a lambda function\n",
        "sorted_friends = sorted(friends, key=lambda x: len(x))\n",
        "\n",
        "# Print the sorted friends list\n",
        "print(\"\\n=== Sorted Friends by Name Length ===\")\n",
        "for friend in sorted_friends:\n",
        "    print(f\"{friend} ({len(friend)})\")\n",
        "\n",
        "# Example 2: Filtering friends with names starting with 'H'\n",
        "friends = [\"Harry Potter\", \"Hermione Granger\", \"Ron Weasley\", \"Draco Malfoy\"]\n",
        "\n",
        "# Filter the friends list to names starting with 'H' using a lambda function\n",
        "filtered_friends = list(filter(lambda x: x.startswith('H'), friends))\n",
        "\n",
        "# Print the filtered friends list\n",
        "print(\"\\n=== Friends with Names Starting with 'H' ===\")\n",
        "for friend in filtered_friends:\n",
        "    print(friend)"
      ]
    },
    {
      "cell_type": "markdown",
      "metadata": {
        "id": "RF1WR6MQ3DzY"
      },
      "source": [
        "**So let's continue with some code examples to see classes in action! Consider using classic movies and characters trivia to illustrate the items you listed previously, including random features.**"
      ]
    },
    {
      "cell_type": "markdown",
      "metadata": {
        "id": "tNc6hzDk3HYn"
      },
      "source": [
        "Certainly! Below are a few code examples that demonstrate the use of classes in the context of movies trivia.\n",
        "\n",
        "Mighty Templates:"
      ]
    },
    {
      "cell_type": "code",
      "execution_count": 7,
      "metadata": {
        "colab": {
          "base_uri": "https://localhost:8080/"
        },
        "id": "pOUSq8hx3HlJ",
        "outputId": "f91faf61-2237-41c2-ad2b-3910d8ec982f"
      },
      "outputs": [
        {
          "output_type": "stream",
          "name": "stdout",
          "text": [
            "Warning: Number of movies for 'Avatar' franchise must be greater than 0.\n",
            "\n",
            "------ Movie Franchises -----\n",
            "     Name     \t|  Movies  \n",
            "-----------------------------\n",
            "Harry Potter  \t|    8     \n",
            "Star Wars     \t|    9     \n",
            "Avatar        \t|    1     \n"
          ]
        }
      ],
      "source": [
        "class MovieFranchise:\n",
        "    # Setter method\n",
        "    def set_franchise(self, name, movies):\n",
        "        self.name = name\n",
        "        if movies > 0:\n",
        "            self.movies = movies\n",
        "        else:\n",
        "            print(f\"Warning: Number of movies for '{name}' franchise must be greater than 0.\")\n",
        "            self.movies = 1\n",
        "\n",
        "    # Getter method\n",
        "    def get_franchise(self):\n",
        "        return self.name, self.movies\n",
        "\n",
        "def main():\n",
        "    # Create movie franchises\n",
        "    harry_potter = MovieFranchise()\n",
        "    harry_potter.set_franchise(\"Harry Potter\", 8)\n",
        "\n",
        "    star_wars = MovieFranchise()\n",
        "    star_wars.set_franchise(\"Star Wars\", 9)\n",
        "\n",
        "    avatar = MovieFranchise()\n",
        "    avatar.set_franchise(\"Avatar\", -2)\n",
        "\n",
        "    # Display movie franchises\n",
        "    print(\"\\n------ Movie Franchises -----\")\n",
        "    print(f\"{'Name':^14}\\t|{'Movies':^10}\")\n",
        "    print(\"-----------------------------\")\n",
        "    franchises = [harry_potter, star_wars, avatar]\n",
        "    for franchise in franchises:\n",
        "        name, movies = franchise.get_franchise()\n",
        "        print(f\"{name:14}\\t|{movies:^10}\")\n",
        "\n",
        "# Call the main function\n",
        "main()"
      ]
    },
    {
      "cell_type": "markdown",
      "metadata": {
        "id": "rKfNX_z9-X8A"
      },
      "source": [
        "Constructors:"
      ]
    },
    {
      "cell_type": "code",
      "execution_count": 28,
      "metadata": {
        "colab": {
          "base_uri": "https://localhost:8080/"
        },
        "id": "HuhFwdqDIhzO",
        "outputId": "2420a6a3-7c12-4ff1-eb99-3666830f65d1"
      },
      "outputs": [
        {
          "output_type": "stream",
          "name": "stdout",
          "text": [
            "Howdy! I'm Dorothy from the movie The Wizard of Oz!\n",
            "Hi, there! I'm James Bond from the movie 007 Series!\n",
            "What's up? I'm Sarah Connor from the movie Terminator!\n",
            "Hey! I'm Indiana Jones from the movie Indiana Jones!\n",
            "Hello! I'm Princess Leia from the movie Star Wars!\n"
          ]
        }
      ],
      "source": [
        "import random\n",
        "\n",
        "class Character:\n",
        "\n",
        "    # The constructor method\n",
        "    def __init__(self, name, movie):\n",
        "        self.name = name\n",
        "        self.movie = movie\n",
        "        \n",
        "    # A method to introduce the Character to the user\n",
        "    def introduce(self):\n",
        "        greetings = [\"Hi, there!\", \"What's up?\", \"Hey!\", \"Yo!\", \"Howdy!\", \"Hello!\"]\n",
        "        greeting = random.choice(greetings)\n",
        "        print(f\"{greeting} I'm {self.name} from the movie {self.movie}!\")\n",
        "\n",
        "def main():\n",
        "    # Creating many instances of Character\n",
        "    dorothy = Character(\"Dorothy\", \"The Wizard of Oz\")\n",
        "    james = Character(\"James Bond\", \"007 Series\")\n",
        "    sarah = Character(\"Sarah Connor\", \"Terminator\")\n",
        "    indy = Character(\"Indiana Jones\", \"Indiana Jones\")\n",
        "    leia = Character(\"Princess Leia\", \"Star Wars\")\n",
        "\n",
        "    # Show how all instances can introduce themselves\n",
        "    characters = [dorothy, james, sarah, indy, leia]\n",
        "    for character in characters: \n",
        "        character.introduce()\n",
        "\n",
        "# Call the main function\n",
        "main()\n"
      ]
    },
    {
      "cell_type": "markdown",
      "metadata": {
        "id": "_PdkU6FgWLBl"
      },
      "source": [
        "Attributes:"
      ]
    },
    {
      "cell_type": "code",
      "execution_count": 40,
      "metadata": {
        "colab": {
          "base_uri": "https://localhost:8080/"
        },
        "id": "FdRurD65WXGd",
        "outputId": "352268b5-2e26-4db6-a646-7444ff8f34d7"
      },
      "outputs": [
        {
          "output_type": "stream",
          "name": "stdout",
          "text": [
            "\n",
            "============ Actors' Information =============\n",
            "Name                \tCountry   \tOscar?\n",
            "=============================================\n",
            "Meryl Streep        \tUnited States\tYes\n",
            "Daniel Day-Lewis    \tUnited Kingdom\tYes\n",
            "Cate Blanchett      \tAustralia \tYes\n",
            "Leonardo DiCaprio   \tUnited States\tNo\n",
            "Anthony Hopkins     \tUnited Kingdom\tYes\n",
            "Kate Winslet        \tUnited Kingdom\tYes\n",
            "Denzel Washington   \tUnited States\tYes\n",
            "Julianne Moore      \tUnited States\tYes\n",
            "Tom Hanks           \tUnited States\tNo\n",
            "Natalie Portman     \tIsrael    \tNo\n",
            "\n",
            "======== Updating Oscar Status =========\n",
            "Leonardo DiCaprio has won an Oscar!\n",
            "Anthony Hopkins already has an Oscar.\n",
            "Tom Hanks has won an Oscar!\n",
            "\n",
            "======== Updated Actors' Information =========\n",
            "Name\t\tCountry\t\tOscar?\n",
            "=============================================\n",
            "Meryl Streep        \tUnited States\tYes\n",
            "Daniel Day-Lewis    \tUnited Kingdom\tYes\n",
            "Cate Blanchett      \tAustralia \tYes\n",
            "Leonardo DiCaprio   \tUnited States\tYes\n",
            "Anthony Hopkins     \tUnited Kingdom\tYes\n",
            "Kate Winslet        \tUnited Kingdom\tYes\n",
            "Denzel Washington   \tUnited States\tYes\n",
            "Julianne Moore      \tUnited States\tYes\n",
            "Tom Hanks           \tUnited States\tYes\n",
            "Natalie Portman     \tIsrael    \tNo\n"
          ]
        }
      ],
      "source": [
        "class Actor:\n",
        "    def __init__(self, name, country, oscar):\n",
        "        # Non-mutable attributes\n",
        "        self.name = name  # The actor's name (non-mutable)\n",
        "        self.country = country  # The actor's country (non-mutable)\n",
        "        \n",
        "        # Mutable attribute\n",
        "        self.oscar = oscar  # The actor's Oscar status (mutable)\n",
        "\n",
        "    def win_oscar(self):\n",
        "        if not self.oscar:\n",
        "            self.oscar = True\n",
        "            print(f\"{self.name} has won an Oscar!\")\n",
        "        else:\n",
        "            print(f\"{self.name} already has an Oscar.\")\n",
        "\n",
        "    def __str__(self):\n",
        "        return f\"{self.name:20}\\t{self.country:10}\\t{'Yes' if self.oscar else 'No'}\"\n",
        "\n",
        "\n",
        "def main():\n",
        "    actors = [\n",
        "        Actor(\"Meryl Streep\", \"United States\", True),\n",
        "        Actor(\"Daniel Day-Lewis\", \"United Kingdom\", True),\n",
        "        Actor(\"Cate Blanchett\", \"Australia\", True),\n",
        "        Actor(\"Leonardo DiCaprio\", \"United States\", False),\n",
        "        Actor(\"Anthony Hopkins\", \"United Kingdom\", True),\n",
        "        Actor(\"Kate Winslet\", \"United Kingdom\", True),\n",
        "        Actor(\"Denzel Washington\", \"United States\", True),\n",
        "        Actor(\"Julianne Moore\", \"United States\", True),\n",
        "        Actor(\"Tom Hanks\", \"United States\", False),\n",
        "        Actor(\"Natalie Portman\", \"Israel\", False),\n",
        "    ]\n",
        "\n",
        "    print(\"\\n============ Actors' Information =============\")\n",
        "    print(f\"{'Name':20}\\t{'Country':10}\\t{'Oscar?'}\")\n",
        "    print(\"=\"*45)\n",
        "    for actor in actors:\n",
        "        print(actor)\n",
        "\n",
        "    print(\"\\n======== Updating Oscar Status =========\")\n",
        "    actors[3].win_oscar()\n",
        "    actors[4].win_oscar()    \n",
        "    actors[8].win_oscar()\n",
        "\n",
        "    print(\"\\n======== Updated Actors' Information =========\")\n",
        "    print(\"Name\\t\\tCountry\\t\\tOscar?\")\n",
        "    print(\"=\"*45)\n",
        "    for actor in actors:\n",
        "        print(actor)\n",
        "\n",
        "\n",
        "# Call the main function\n",
        "main()\n"
      ]
    },
    {
      "cell_type": "markdown",
      "source": [
        "Methods:"
      ],
      "metadata": {
        "id": "HTZSTNdc0uAA"
      }
    },
    {
      "cell_type": "code",
      "execution_count": 19,
      "metadata": {
        "colab": {
          "base_uri": "https://localhost:8080/"
        },
        "id": "sLfmUzcj73d7",
        "outputId": "bdadc01a-294c-4494-cffd-28b01f4463a7"
      },
      "outputs": [
        {
          "output_type": "stream",
          "name": "stdout",
          "text": [
            "Most Awarded Movie List:\n",
            "--------------------------------------------------------------------------------\n",
            "Name\t\t\tPeriod\t\tDuration\t\tOscars\n",
            "--------------------------------------------------------------------------------\n",
            "Titanic             \t20th century\tReally long    \tBest Picture, Best Actor\n",
            "The Lord of the Rings\t21th century\tReally long    \tBest Picture\n",
            "Ben-Hur             \t20th century\tReally long    \tBest Music, Best Actress\n",
            "Gravity             \t21th century\tNormal         \tBest Actor, Best Music\n",
            "Gone with the Wind  \t20th century\tReally long    \tBest Picture, Best Music\n",
            "The Shape of Water  \t21th century\tLong           \t\n",
            "\n",
            "Modifying Awards:\n",
            "Added Best Actor award to The Shape of Water\n",
            "Added Best Actress award to The Shape of Water\n",
            "\n",
            "Updated Movie List:\n",
            "--------------------------------------------------------------------------------\n",
            "Name\t\t\tPeriod\t\tDuration\t\tOscars\n",
            "--------------------------------------------------------------------------------\n",
            "Titanic             \t20th century\tReally long    \tBest Picture, Best Actor\n",
            "The Lord of the Rings\t21th century\tReally long    \tBest Picture\n",
            "Ben-Hur             \t20th century\tReally long    \tBest Music, Best Actress\n",
            "Gravity             \t21th century\tNormal         \tBest Actor, Best Music\n",
            "Gone with the Wind  \t20th century\tReally long    \tBest Picture, Best Music\n",
            "The Shape of Water  \t21th century\tLong           \tBest Actor, Best Actress\n"
          ]
        }
      ],
      "source": [
        "class Movie:\n",
        "    # Movie constructor requires name, year, length, and optional list of oscars \n",
        "    def __init__(self, name, year, length, oscars=None):\n",
        "        self.name = name\n",
        "        self.year = year\n",
        "        self.length = length\n",
        "        self.oscars = oscars if oscars else []  # Set empty list if oscars==None\n",
        "\n",
        "    # Add an Oscar award to the movie. Non-return method with confirmation message\n",
        "    def add_oscar(self, award):\n",
        "        self.oscars.append(award)\n",
        "        print(f\"Added {award} award to {self.name}\")\n",
        "\n",
        "    # Return the list of Oscars as a comma-separated string\n",
        "    def get_oscar_list(self):\n",
        "        return \", \".join(self.oscars)\n",
        "\n",
        "    # Return the duration category: \"Normal\", \"Long\", or \"Really long\"\n",
        "    def get_duration(self):\n",
        "        if self.length < 90:\n",
        "            return \"Normal\"  # < 90 minutes\n",
        "        elif self.length < 180:\n",
        "            return \"Long\"  # 90-180 minutes\n",
        "        else:\n",
        "            return \"Really long\"  # > 180 minutes\n",
        "\n",
        "    # Calculate the century based on the year and return as formatted string\n",
        "    def get_century(self):\n",
        "        century = (self.year // 100) + 1\n",
        "        return f\"{century}th century\"\n",
        "\n",
        "    # Return formatted string representation of the movie\n",
        "    def __str__(self):\n",
        "        return f\"{self.name:<20}\\t{self.get_century():<10}\\t{self.get_duration():<15}\\t{self.get_oscar_list()}\"\n",
        "\n",
        "# Main function\n",
        "def main():\n",
        "    # The lists of Oscars are just illustrative, not the real ones\n",
        "    movies = [\n",
        "        Movie(\"Titanic\", 1997, 194, [\"Best Picture\", \"Best Actor\"]),\n",
        "        Movie(\"The Lord of the Rings\", 2003, 201, [\"Best Picture\"]),\n",
        "        Movie(\"Ben-Hur\", 1959, 212, [\"Best Music\", \"Best Actress\"]),\n",
        "        Movie(\"Gravity\", 2013, 89, [\"Best Actor\", \"Best Music\"]),\n",
        "        Movie(\"Gone with the Wind\", 1939, 238, [\"Best Picture\", \"Best Music\"]),\n",
        "        Movie(\"The Shape of Water\", 2017, 123),\n",
        "    ]\n",
        "\n",
        "    print(\"Most Awarded Movie List:\")\n",
        "    print(\"-\"*80)\n",
        "    print(\"Name\\t\\t\\tPeriod\\t\\tDuration\\t\\tOscars\")\n",
        "    print(\"-\"*80)\n",
        "    for movie in movies:\n",
        "        print(movie)\n",
        "\n",
        "    print(\"\\nModifying Awards:\")\n",
        "    movies[5].add_oscar(\"Best Actor\")  \n",
        "    movies[5].add_oscar(\"Best Actress\")  \n",
        "    \n",
        "    print(\"\\nUpdated Movie List:\")\n",
        "    print(\"-\"*80)\n",
        "    print(\"Name\\t\\t\\tPeriod\\t\\tDuration\\t\\tOscars\")\n",
        "    print(\"-\"*80)\n",
        "    for movie in movies:\n",
        "        print(movie)\n",
        "\n",
        "# Call the main function\n",
        "main()"
      ]
    },
    {
      "cell_type": "markdown",
      "metadata": {
        "id": "T9Vw5ixTCXhv"
      },
      "source": [
        "*** END OF CHAPTER ***"
      ]
    }
  ],
  "metadata": {
    "colab": {
      "provenance": []
    },
    "kernelspec": {
      "display_name": "Python 3",
      "name": "python3"
    },
    "language_info": {
      "name": "python"
    }
  },
  "nbformat": 4,
  "nbformat_minor": 0
}