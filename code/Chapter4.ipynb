{
  "nbformat": 4,
  "nbformat_minor": 0,
  "metadata": {
    "colab": {
      "provenance": []
    },
    "kernelspec": {
      "name": "python3",
      "display_name": "Python 3"
    },
    "language_info": {
      "name": "python"
    }
  },
  "cells": [
    {
      "cell_type": "markdown",
      "source": [
        "#ChatGPT: Your Python Coach\n",
        "## Chapter 4: The Control Tower\n",
        "\n",
        "\n",
        "**Explain everything I need to know about if/else statements in Python in a fun and creative way, with playful examples.**"
      ],
      "metadata": {
        "id": "gxpx1zPEhG7J"
      }
    },
    {
      "cell_type": "markdown",
      "source": [
        "Let's say you're a detective investigating a mysterious crime. You have a suspect, and you need to determine if they're guilty or innocent. You can use an if/else statement to help you:"
      ],
      "metadata": {
        "id": "lV8R554nEB6H"
      }
    },
    {
      "cell_type": "code",
      "execution_count": null,
      "metadata": {
        "colab": {
          "base_uri": "https://localhost:8080/"
        },
        "id": "uUr-4nKWgnEq",
        "outputId": "00d138fd-b243-45e8-f131-99d0340f3459"
      },
      "outputs": [
        {
          "output_type": "stream",
          "name": "stdout",
          "text": [
            "Enter your name: Jack the Ripper\n",
            "You're under arrest, Jack the Ripper! You're guilty!\n"
          ]
        }
      ],
      "source": [
        "# Ask the user to enter their name\n",
        "suspect = input(\"Enter your name: \")\n",
        "\n",
        "# Check if the entered name matches \"Jack the Ripper\"\n",
        "if suspect == \"Jack the Ripper\":\n",
        "    # If the name matches, print an arrest message\n",
        "    print(f\"You're under arrest, {suspect}! You're guilty!\")\n",
        "else:\n",
        "    # If the name doesn't match, print a message indicating innocence\n",
        "    print(f\"You're free to go {suspect}! You're innocent!\")\n"
      ]
    },
    {
      "cell_type": "markdown",
      "source": [
        "Moreover, you can also use if/elif/else statements to handle more than two different scenarios. Such scenarios can be defined by combining several conditions using logical operators. Let's say you want to determine if it's a good day to go to the beach based on the weather. Here's an example:"
      ],
      "metadata": {
        "id": "XLImC25QRdI-"
      }
    },
    {
      "cell_type": "code",
      "source": [
        "# Set the initial conditions\n",
        "sunny = True\n",
        "temperature = 22\n",
        "\n",
        "# If it's sunny and the temperature is above 25 degrees\n",
        "if sunny and temperature > 25:\n",
        "    print(\"It's a perfect day for the beach!\")\n",
        "# If it's sunny but the temperature is 25 degrees or lower\n",
        "elif sunny and temperature <= 25:\n",
        "    print(\"It's a bit chilly, but you can still enjoy the beach!\")\n",
        "# If it's not sunny\n",
        "else:\n",
        "    print(\"Maybe it's better to stay home today.\")"
      ],
      "metadata": {
        "colab": {
          "base_uri": "https://localhost:8080/"
        },
        "id": "DmpNDZDJRibA",
        "outputId": "094356e2-24ce-41d2-dadb-d421ca126f62"
      },
      "execution_count": null,
      "outputs": [
        {
          "output_type": "stream",
          "name": "stdout",
          "text": [
            "It's a bit chilly, but you can still enjoy the beach!\n"
          ]
        }
      ]
    },
    {
      "cell_type": "markdown",
      "source": [
        "**Is there anything else I should know about conditionals in Python?**"
      ],
      "metadata": {
        "id": "gAynj4RtJVe1"
      }
    },
    {
      "cell_type": "markdown",
      "source": [
        "Here's an example of chained conditionals where the conditions may overlap, resulting in multiple 'if' blocks executing:"
      ],
      "metadata": {
        "id": "fg4xcwS7JaeD"
      }
    },
    {
      "cell_type": "code",
      "source": [
        "# Prompt the user for their age\n",
        "age = int(input(\"How old are you? \"))\n",
        "\n",
        "# Check the age range using chained conditionals\n",
        "if age > 13:\n",
        "    print(\"Congratulations, you've survived your childhood!\")\n",
        "if age > 18:\n",
        "    print(\"You've made it through the rollercoaster of teenage years!\")\n",
        "if age > 35:\n",
        "    print(\"You're now a fully-fledged adult, and bills are your new best friends!\")\n",
        "if age >= 65:\n",
        "    print(\"Welcome to the exclusive club of senior citizens! Discounts await!!\")"
      ],
      "metadata": {
        "id": "KEixZGYiJWrs",
        "colab": {
          "base_uri": "https://localhost:8080/"
        },
        "outputId": "76a652be-2907-4929-ce72-0862b9763420"
      },
      "execution_count": 1,
      "outputs": [
        {
          "output_type": "stream",
          "name": "stdout",
          "text": [
            "How old are you? 40\n",
            "Congratulations, you've survived your childhood!\n",
            "You've made it through the rollercoaster of teenage years!\n",
            "You're now a fully-fledged adult, and bills are your new best friends!\n"
          ]
        }
      ]
    },
    {
      "cell_type": "markdown",
      "source": [
        "Python also provides a compact way to write simple conditional expressions called the ternary operator. It allows you to evaluate a condition and return one value if the condition is true, and another value if the condition is false."
      ],
      "metadata": {
        "id": "fd32-WMpLwhg"
      }
    },
    {
      "cell_type": "code",
      "source": [
        "# Prompt the user for the speed of their vehicle\n",
        "speed = int(input(\"Officer: What was the speed of your vehicle in mph? \"))\n",
        "\n",
        "# Use the ternary operator to determine the response that would be inserted in the printout\n",
        "response = \"speeding ticket, sorry\" if speed > 70 else \"high, five!\"\n",
        "print(f\"Officer: Alright, I may have to issue you a... {response}. Drive safe!\")"
      ],
      "metadata": {
        "colab": {
          "base_uri": "https://localhost:8080/"
        },
        "id": "tdHj_OF2LxoO",
        "outputId": "a5d7ae1f-7bf1-4716-a189-7ae7c2f32686"
      },
      "execution_count": null,
      "outputs": [
        {
          "output_type": "stream",
          "name": "stdout",
          "text": [
            "Officer: What was the speed of your vehicle in mph? 85\n",
            "Officer: Alright, I may have to issue you a... speeding ticket, sorry. Drive safe!\n"
          ]
        }
      ]
    },
    {
      "cell_type": "markdown",
      "source": [
        "**Now let's talk about match/case statements in Python. Explain everything I need to know about them in a fun and creative way, using playful examples.**"
      ],
      "metadata": {
        "id": "RF1WR6MQ3DzY"
      }
    },
    {
      "cell_type": "markdown",
      "source": [
        "Let's explore the match/case statement using a playful example of pizza ordering. Imagine you are a pizza lover, and you want to order a pizza with different toppings based on the size of the pizza. Let's see how we can use the match/case statement to handle this situation."
      ],
      "metadata": {
        "id": "tNc6hzDk3HYn"
      }
    },
    {
      "cell_type": "code",
      "source": [
        "pizza = input(\"What pizza would you like today? (veggie/meat/hawaiian) \")\n",
        "\n",
        "match pizza.lower():\n",
        "    case \"veggie\":\n",
        "        toppings = \"Mushrooms, olives, and peppers\"\n",
        "    case \"meat\":\n",
        "        toppings = \"Ground beef, sausage, and pepperoni\"\n",
        "    case \"hawaiian\":\n",
        "        toppings = \"Ham, pineapple, and extra cheese\"\n",
        "    case _:\n",
        "        toppings = \"Tomato and cheese only\"\n",
        "\n",
        "print(f\"You ordered a {pizza} pizza with toppings: {toppings}\")"
      ],
      "metadata": {
        "colab": {
          "base_uri": "https://localhost:8080/"
        },
        "id": "pOUSq8hx3HlJ",
        "outputId": "0f5c1996-8b38-40ec-fc9b-6f8d753cb2e8"
      },
      "execution_count": null,
      "outputs": [
        {
          "output_type": "stream",
          "name": "stdout",
          "text": [
            "What pizza would you like today? (veggie/meat/hawaiian) surprise me!\n",
            "You ordered a surprise me! pizza with toppings: Tomato and cheese only\n"
          ]
        }
      ]
    },
    {
      "cell_type": "markdown",
      "source": [
        "**Now let's see the for loops in action in a fun and creative way, using playful examples.**"
      ],
      "metadata": {
        "id": "sb0TKWl4IhdP"
      }
    },
    {
      "cell_type": "markdown",
      "source": [
        "Counting with Ease:"
      ],
      "metadata": {
        "id": "rKfNX_z9-X8A"
      }
    },
    {
      "cell_type": "code",
      "source": [
        "# range(1, 11) generates a sequence from 1 to 11-1\n",
        "for number in range(1, 11):\n",
        "    print(number)"
      ],
      "metadata": {
        "colab": {
          "base_uri": "https://localhost:8080/"
        },
        "id": "HuhFwdqDIhzO",
        "outputId": "b694dd45-055e-406b-ab87-b411df5abc1c"
      },
      "execution_count": null,
      "outputs": [
        {
          "output_type": "stream",
          "name": "stdout",
          "text": [
            "1\n",
            "2\n",
            "3\n",
            "4\n",
            "5\n",
            "6\n",
            "7\n",
            "8\n",
            "9\n",
            "10\n"
          ]
        }
      ]
    },
    {
      "cell_type": "markdown",
      "source": [
        "Stepping to Success:"
      ],
      "metadata": {
        "id": "wUV3Y6-S-Zkp"
      }
    },
    {
      "cell_type": "code",
      "source": [
        "# the last parameter in range() is the count step\n",
        "for number in range(2, 11, 2):\n",
        "    print(number)"
      ],
      "metadata": {
        "colab": {
          "base_uri": "https://localhost:8080/"
        },
        "id": "sLfmUzcj73d7",
        "outputId": "43aa4935-8255-4534-e8f2-d347c2d35b26"
      },
      "execution_count": null,
      "outputs": [
        {
          "output_type": "stream",
          "name": "stdout",
          "text": [
            "2\n",
            "4\n",
            "6\n",
            "8\n",
            "10\n"
          ]
        }
      ]
    },
    {
      "cell_type": "markdown",
      "source": [
        "Unveiling the Magic Word:"
      ],
      "metadata": {
        "id": "I6xB-bSf-bMc"
      }
    },
    {
      "cell_type": "code",
      "source": [
        "magic_word = \"abracadabra\"\n",
        "print(f\"Let's unveil the magical letters of '{magic_word}': \")\n",
        "for letter in magic_word:\n",
        "    print(\"+---+\")\n",
        "    print(f\"| {letter} |\")"
      ],
      "metadata": {
        "colab": {
          "base_uri": "https://localhost:8080/"
        },
        "id": "eTJftpAQ8DA7",
        "outputId": "18193897-9d00-4227-8fb8-6a71c9a26370"
      },
      "execution_count": null,
      "outputs": [
        {
          "output_type": "stream",
          "name": "stdout",
          "text": [
            "Let's unveil the magical letters of 'abracadabra': \n",
            "+---+\n",
            "| a |\n",
            "+---+\n",
            "| b |\n",
            "+---+\n",
            "| r |\n",
            "+---+\n",
            "| a |\n",
            "+---+\n",
            "| c |\n",
            "+---+\n",
            "| a |\n",
            "+---+\n",
            "| d |\n",
            "+---+\n",
            "| a |\n",
            "+---+\n",
            "| b |\n",
            "+---+\n",
            "| r |\n",
            "+---+\n",
            "| a |\n"
          ]
        }
      ]
    },
    {
      "cell_type": "markdown",
      "source": [
        "Multiplication Spell:"
      ],
      "metadata": {
        "id": "xo3z26Qa-dVg"
      }
    },
    {
      "cell_type": "code",
      "source": [
        "number = int(input(\"Enter a number to cast a multiplication spell: \"))\n",
        "for i in range(1, 11):\n",
        "    result = number * i\n",
        "    print(f\"{number} x {i} = {result}\")"
      ],
      "metadata": {
        "colab": {
          "base_uri": "https://localhost:8080/"
        },
        "id": "LVqGWk2w8NkQ",
        "outputId": "dec59d08-df99-4358-8526-b900d19403f6"
      },
      "execution_count": null,
      "outputs": [
        {
          "output_type": "stream",
          "name": "stdout",
          "text": [
            "Enter a number to cast a multiplication spell: 7\n",
            "7 x 1 = 7\n",
            "7 x 2 = 14\n",
            "7 x 3 = 21\n",
            "7 x 4 = 28\n",
            "7 x 5 = 35\n",
            "7 x 6 = 42\n",
            "7 x 7 = 49\n",
            "7 x 8 = 56\n",
            "7 x 9 = 63\n",
            "7 x 10 = 70\n"
          ]
        }
      ]
    },
    {
      "cell_type": "markdown",
      "source": [
        "Transforming Strings:"
      ],
      "metadata": {
        "id": "xYHXEixT-ieJ"
      }
    },
    {
      "cell_type": "code",
      "source": [
        "text = \"Hello, World!\"\n",
        "converted_text = \"\"\n",
        "for char in text:\n",
        "    converted_text += char.upper()\n",
        "print(\"Original text : \", text)\n",
        "print(\"Converted text: \", converted_text)"
      ],
      "metadata": {
        "colab": {
          "base_uri": "https://localhost:8080/"
        },
        "id": "zY_nrec98_e3",
        "outputId": "7056a92e-ee35-496a-e88c-1f9dd08575ba"
      },
      "execution_count": null,
      "outputs": [
        {
          "output_type": "stream",
          "name": "stdout",
          "text": [
            "Original text :  Hello, World!\n",
            "Converted text:  HELLO, WORLD!\n"
          ]
        }
      ]
    },
    {
      "cell_type": "markdown",
      "source": [
        "**Now let's see the while loops in action in a fun and creative way, using playful examples.**"
      ],
      "metadata": {
        "id": "A6x0Jm7sUwe4"
      }
    },
    {
      "cell_type": "markdown",
      "source": [
        "Counting Sheep:"
      ],
      "metadata": {
        "id": "_H_GTUYrXAxW"
      }
    },
    {
      "cell_type": "code",
      "source": [
        "# Initialize the variable sheep to 0\n",
        "sheep = 0\n",
        "\n",
        "# Prompt the user for their sleep status\n",
        "asleep = input(\"Are you asleep yet (yes/no)? \")\n",
        "\n",
        "# Continue the loop as long as the user is not asleep\n",
        "while asleep.lower() != \"yes\":\n",
        "    sheep += 1\n",
        "    print(f\"Counting sheep #{sheep}: Baaa...\\n\")\n",
        "    asleep = input(\"Are you asleep yet (yes/no)? \")\n",
        "\n",
        "# Once the loop is terminated, acknowledge that the user is asleep\n",
        "print(\"You've fallen asleep! Sweet dreams!\")"
      ],
      "metadata": {
        "colab": {
          "base_uri": "https://localhost:8080/"
        },
        "id": "1fJapQe7MppP",
        "outputId": "9f4e8cc6-49ad-47ba-dd67-e58723f07be0"
      },
      "execution_count": null,
      "outputs": [
        {
          "output_type": "stream",
          "name": "stdout",
          "text": [
            "Are you asleep yet (yes/no)? no\n",
            "Counting sheep #1: Baaa...\n",
            "\n",
            "Are you asleep yet (yes/no)? no\n",
            "Counting sheep #2: Baaa...\n",
            "\n",
            "Are you asleep yet (yes/no)? no\n",
            "Counting sheep #3: Baaa...\n",
            "\n",
            "Are you asleep yet (yes/no)? no\n",
            "Counting sheep #4: Baaa...\n",
            "\n",
            "Are you asleep yet (yes/no)? yes\n",
            "You've fallen asleep! Sweet dreams!\n"
          ]
        }
      ]
    },
    {
      "cell_type": "markdown",
      "source": [
        "Unlocking the Treasure Chest"
      ],
      "metadata": {
        "id": "4-IR5yrrU0IV"
      }
    },
    {
      "cell_type": "code",
      "source": [
        "# Define a secret word and generate the secret code\n",
        "secret_word = \"OpenSesame\"\n",
        "secret_code = secret_word.swapcase()\n",
        "\n",
        "# Prompt the user to enter their guess\n",
        "guess = input(\"Enter the secret code: \")\n",
        "\n",
        "# Continue the loop as long as the guess is incorrect\n",
        "while guess != secret_code:\n",
        "    print(\"Wrong code! Try again.\\n\")\n",
        "    guess = input(\"Enter the secret code: \")\n",
        "\n",
        "# Print a message indicating the chest open\n",
        "print(\"Congratulations! You've unlocked the treasure chest!\")\n"
      ],
      "metadata": {
        "colab": {
          "base_uri": "https://localhost:8080/"
        },
        "id": "he7d0qrZU4MW",
        "outputId": "83d9e611-8d38-40bd-fa4a-c30c7f265083"
      },
      "execution_count": null,
      "outputs": [
        {
          "output_type": "stream",
          "name": "stdout",
          "text": [
            "Enter the secret code: OpenSesame\n",
            "Wrong code! Try again.\n",
            "\n",
            "Enter the secret code: opensesame\n",
            "Wrong code! Try again.\n",
            "\n",
            "Enter the secret code: oPENsESAME\n",
            "Congratulations! You've unlocked the treasure chest!\n"
          ]
        }
      ]
    },
    {
      "cell_type": "markdown",
      "source": [
        "**Show me how to use nested conditionals allowing for multiple levels of branching, nested loops including nested double for loops, double while loops and mixed while/for or for/while loops, as well as combinations of loops within conditionals and conditional within loops. Use examples from superheroes and comics to be creative and playful in your explanation.**"
      ],
      "metadata": {
        "id": "ng3BPgTb88C3"
      }
    },
    {
      "cell_type": "markdown",
      "source": [
        "Superhero vs Supervillain:"
      ],
      "metadata": {
        "id": "KTuxSHV09A9m"
      }
    },
    {
      "cell_type": "code",
      "source": [
        "# Get inputs\n",
        "superhero = input(\"Choose a superhero: \")\n",
        "supervillain = input(\"Choose a supervillain: \")\n",
        "\n",
        "# Check superhero/supervillain combination\n",
        "if superhero == \"Superman\":\n",
        "    if supervillain == \"Lex Luthor\":\n",
        "        print(\"Superman beats Lex Luthor!\")\n",
        "    elif supervillain == \"Doomsday\":\n",
        "        print(\"Doomsday beats Superman!\")\n",
        "    else:\n",
        "        print(\"Invalid supervillain choice!\")\n",
        "elif superhero == \"Batman\":\n",
        "    if supervillain == \"Joker\":\n",
        "        print(\"Batman beats Joker!\")\n",
        "    elif supervillain == \"Bane\":\n",
        "        print(\"Bane beats Batman!\")\n",
        "    else:\n",
        "        print(\"Invalid supervillain choice!\")\n",
        "elif superhero == \"Spider-Man\":\n",
        "    if supervillain == \"Green Goblin\":\n",
        "        print(\"Spider-Man beats Green Goblin!\")\n",
        "    elif supervillain == \"Venom\":\n",
        "        print(\"Venom beats Spider-Man!\")\n",
        "    else:\n",
        "        print(\"Invalid supervillain choice!\")\n",
        "else:\n",
        "    print(\"Invalid superhero choice!\")\n"
      ],
      "metadata": {
        "colab": {
          "base_uri": "https://localhost:8080/"
        },
        "id": "1_G0MXtE9KiN",
        "outputId": "f9890818-cdb5-48e3-e5e6-cec02894aa50"
      },
      "execution_count": null,
      "outputs": [
        {
          "output_type": "stream",
          "name": "stdout",
          "text": [
            "Choose a superhero: Spider-Man\n",
            "Choose a supervillain: Green Goblin\n",
            "Spider-Man beats Green Goblin!\n"
          ]
        }
      ]
    },
    {
      "cell_type": "markdown",
      "source": [
        "Superhero Training Sessions:"
      ],
      "metadata": {
        "id": "u8piXJthFqTD"
      }
    },
    {
      "cell_type": "code",
      "source": [
        "import time\n",
        "\n",
        "num_sessions = int(input(\"Enter the number of training sessions: \"))\n",
        "session_duration = int(input(\"Enter the duration of each training session (in seconds): \"))\n",
        "\n",
        "for session in range(1, num_sessions + 1):\n",
        "    print(f\"\\nTraining Session {session}:\")\n",
        "    for second in range(1, session_duration + 1):\n",
        "        print(f\"Seconds elapsed: {second}. Training in progress...\")\n",
        "        time.sleep(1)  # Pause for one second\n",
        "    print(\"Session complete. Rest 5 seconds and prepare for the next session...\")\n",
        "    time.sleep(5) # Pause for five seconds\n",
        "\n",
        "print(\"\\nWell done! See you soon for more training!\")"
      ],
      "metadata": {
        "colab": {
          "base_uri": "https://localhost:8080/"
        },
        "id": "X-Sy-VW8Fkei",
        "outputId": "c6964fa9-9147-43ca-ae82-9b935c833b07"
      },
      "execution_count": null,
      "outputs": [
        {
          "output_type": "stream",
          "name": "stdout",
          "text": [
            "Enter the number of training sessions: 3\n",
            "Enter the duration of each training session (in seconds): 2\n",
            "\n",
            "Training Session 1:\n",
            "Seconds elapsed: 1. Training in progress...\n",
            "Seconds elapsed: 2. Training in progress...\n",
            "Session complete. Rest 5 seconds and prepare for the next session...\n",
            "\n",
            "Training Session 2:\n",
            "Seconds elapsed: 1. Training in progress...\n",
            "Seconds elapsed: 2. Training in progress...\n",
            "Session complete. Rest 5 seconds and prepare for the next session...\n",
            "\n",
            "Training Session 3:\n",
            "Seconds elapsed: 1. Training in progress...\n",
            "Seconds elapsed: 2. Training in progress...\n",
            "Session complete. Rest 5 seconds and prepare for the next session...\n",
            "\n",
            "Well done! See you soon for more training!\n"
          ]
        }
      ]
    },
    {
      "cell_type": "markdown",
      "source": [
        "Superhero Cheers:"
      ],
      "metadata": {
        "id": "fSuHnH7VILJ2"
      }
    },
    {
      "cell_type": "code",
      "source": [
        "import random\n",
        "\n",
        "# Outer loop runs until \"exit\" is entered\n",
        "while True:\n",
        "    superhero = input(\"\\nEnter the name of a superhero (or 'exit' to quit): \")\n",
        "    if superhero == \"exit\":\n",
        "        break;\n",
        "\n",
        "    # Generate a random number of hoorays using randint()\n",
        "    hoorays = random.randint(1, 10)\n",
        "\n",
        "    # Inner loop runs as long as there are hoorays left\n",
        "    while hoorays > 0:\n",
        "        print(f\"Hip hip hooray, {superhero}!\")  # Print the cheer message\n",
        "        hoorays -= 1  # Decrement the hoorays count\n",
        "print(\"\\nBye!\")"
      ],
      "metadata": {
        "colab": {
          "base_uri": "https://localhost:8080/"
        },
        "id": "4Be4u-alG7x0",
        "outputId": "f77f4935-7232-46ca-c2e6-829bd21ecbe5"
      },
      "execution_count": null,
      "outputs": [
        {
          "name": "stdout",
          "output_type": "stream",
          "text": [
            "\n",
            "Enter the name of a superhero (or 'exit' to quit): Wonder Woman\n",
            "Hip hip hooray, Wonder Woman!\n",
            "Hip hip hooray, Wonder Woman!\n",
            "Hip hip hooray, Wonder Woman!\n",
            "Hip hip hooray, Wonder Woman!\n",
            "Hip hip hooray, Wonder Woman!\n",
            "Hip hip hooray, Wonder Woman!\n",
            "Hip hip hooray, Wonder Woman!\n",
            "Hip hip hooray, Wonder Woman!\n",
            "Hip hip hooray, Wonder Woman!\n",
            "\n",
            "Enter the name of a superhero (or 'exit' to quit): Superman\n",
            "Hip hip hooray, Superman!\n",
            "Hip hip hooray, Superman!\n",
            "\n",
            "Enter the name of a superhero (or 'exit' to quit): exit\n"
          ]
        }
      ]
    },
    {
      "cell_type": "markdown",
      "source": [
        "Battle Royale:"
      ],
      "metadata": {
        "id": "_81n04yqLE38"
      }
    },
    {
      "cell_type": "code",
      "source": [
        "import random\n",
        "\n",
        "heroes = \"iron-man/captain america/black widow\"\n",
        "\n",
        "while True:\n",
        "    hero1 = input(\"\\nEnter the name of the first hero (or 'exit' to quit): \")\n",
        "    if hero1 == \"exit\":\n",
        "        break\n",
        "\n",
        "    hero2 = input(\"Enter the name of the second hero (or 'exit' to quit): \")\n",
        "    if hero2 == \"exit\":\n",
        "        break\n",
        "\n",
        "    if hero1.lower() not in heroes or hero2.lower() not in heroes:\n",
        "        print('Invalid hero names. Only \"Iron-man\", \"Captain America\" or \"Black Widow\" are allowed. Please try again.')\n",
        "        continue\n",
        "\n",
        "    power1 = random.randint(1, 100)\n",
        "    power2 = random.randint(1, 100)\n",
        "\n",
        "    print(f\"\\nLet the battle begin between {hero1} (power level: {power1}) and {hero2} (power level: {power2})!\")\n",
        "\n",
        "    while power1 > 0 and power2 > 0:\n",
        "        hit1 = random.randint(1, 10)\n",
        "        hit2 = random.randint(1, 10)\n",
        "\n",
        "        power1 -= hit2\n",
        "        power2 -= hit1\n",
        "\n",
        "        print(f\"\\n{hero1} hits {hero2} with power {hit1}! {hero2}'s power level: {power2}\")\n",
        "        print(f\"{hero2} counters and hits {hero1} with power {hit2}! {hero1}'s power level: {power1}\")\n",
        "\n",
        "    if power1 <= 0 and power2 <= 0:\n",
        "        print(\"\\nIt's a draw! Both heroes are knocked out.\")\n",
        "    elif power1 <= 0:\n",
        "        print(f\"\\n{hero2} is the winner!\")\n",
        "    elif power2 <= 0:\n",
        "        print(f\"\\n{hero1} is the winner!\")\n",
        "\n",
        "print(\"\\nThank you for playing Superhero Battle Royale. See you next time!\")"
      ],
      "metadata": {
        "colab": {
          "base_uri": "https://localhost:8080/"
        },
        "id": "hgY6FyMALRba",
        "outputId": "5e60231a-1c46-4e1b-9a91-d00fe58387b8"
      },
      "execution_count": null,
      "outputs": [
        {
          "output_type": "stream",
          "name": "stdout",
          "text": [
            "\n",
            "Enter the name of the first hero (or 'exit' to quit): Black Widow\n",
            "Enter the name of the second hero (or 'exit' to quit): Captain America\n",
            "\n",
            "Let the battle begin between Black Widow (power level: 95) and Captain America (power level: 72)!\n",
            "\n",
            "Black Widow hits Captain America with power 9! Captain America's power level: 63\n",
            "Captain America counters and hits Black Widow with power 8! Black Widow's power level: 87\n",
            "\n",
            "Black Widow hits Captain America with power 5! Captain America's power level: 58\n",
            "Captain America counters and hits Black Widow with power 8! Black Widow's power level: 79\n",
            "\n",
            "Black Widow hits Captain America with power 8! Captain America's power level: 50\n",
            "Captain America counters and hits Black Widow with power 7! Black Widow's power level: 72\n",
            "\n",
            "Black Widow hits Captain America with power 10! Captain America's power level: 40\n",
            "Captain America counters and hits Black Widow with power 7! Black Widow's power level: 65\n",
            "\n",
            "Black Widow hits Captain America with power 6! Captain America's power level: 34\n",
            "Captain America counters and hits Black Widow with power 5! Black Widow's power level: 60\n",
            "\n",
            "Black Widow hits Captain America with power 4! Captain America's power level: 30\n",
            "Captain America counters and hits Black Widow with power 5! Black Widow's power level: 55\n",
            "\n",
            "Black Widow hits Captain America with power 3! Captain America's power level: 27\n",
            "Captain America counters and hits Black Widow with power 9! Black Widow's power level: 46\n",
            "\n",
            "Black Widow hits Captain America with power 9! Captain America's power level: 18\n",
            "Captain America counters and hits Black Widow with power 3! Black Widow's power level: 43\n",
            "\n",
            "Black Widow hits Captain America with power 8! Captain America's power level: 10\n",
            "Captain America counters and hits Black Widow with power 5! Black Widow's power level: 38\n",
            "\n",
            "Black Widow hits Captain America with power 7! Captain America's power level: 3\n",
            "Captain America counters and hits Black Widow with power 10! Black Widow's power level: 28\n",
            "\n",
            "Black Widow hits Captain America with power 3! Captain America's power level: 0\n",
            "Captain America counters and hits Black Widow with power 10! Black Widow's power level: 18\n",
            "\n",
            "Black Widow is the winner!\n",
            "\n",
            "Enter the name of the first hero (or 'exit' to quit): exit\n",
            "\n",
            "Thank you for playing Superhero Battle Royale. See you next time!\n"
          ]
        }
      ]
    },
    {
      "cell_type": "markdown",
      "source": [
        "*** END OF CHAPTER ***"
      ],
      "metadata": {
        "id": "T9Vw5ixTCXhv"
      }
    }
  ]
}