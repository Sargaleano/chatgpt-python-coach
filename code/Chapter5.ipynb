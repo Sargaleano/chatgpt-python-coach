{
  "cells": [
    {
      "cell_type": "markdown",
      "metadata": {
        "id": "gxpx1zPEhG7J"
      },
      "source": [
        "#ChatGPT: Your Python Coach \n",
        "## Chapter 5: The Containers Zone\n",
        "\n",
        "\n",
        "**Explain everything I need to know about lists in Python in a fun and creative way, using playful examples.**"
      ]
    },
    {
      "cell_type": "markdown",
      "metadata": {
        "id": "lV8R554nEB6H"
      },
      "source": [
        "Certainly! Here are code examples illustrating each of the items listed above, using a superhero vs. villain theme. Each code block is accompanied by comments that explain the corresponding item, along with the console output."
      ]
    },
    {
      "cell_type": "code",
      "execution_count": null,
      "metadata": {
        "colab": {
          "base_uri": "https://localhost:8080/"
        },
        "id": "uUr-4nKWgnEq",
        "outputId": "39533a9c-bf52-471b-927d-0c6905c84529"
      },
      "outputs": [
        {
          "name": "stdout",
          "output_type": "stream",
          "text": [
            "Your magical backpack of superheroes is ready!\n",
            "List of superheroes: []\n",
            "\n",
            "Now your magical backpack of superheroes is filled!\n",
            "List of superheroes: ['Spider-Man', 'Iron Man', 'Captain America']\n",
            "\n",
            "Indexing Example:\n",
            "The first superhero is: Spider-Man\n",
            "The second superhero is: Iron Man\n",
            "The last superhero is: Captain America\n",
            "\n",
            "Updating and Adding Items Example:\n",
            "Updated list of superheroes: ['Spider-Man', 'Black Widow', 'Captain America']\n",
            "Extended list of superheroes: ['Spider-Man', 'Black Widow', 'Captain America', 'Hulk']\n",
            "\n",
            "Slicing Example:\n",
            "List of villains:  ['Green Goblin', 'Loki', 'Red Skull', 'Thanos', 'Venom']\n",
            "The first three villains are: ['Green Goblin', 'Loki', 'Red Skull']\n",
            "The last two villains are: ['Thanos', 'Venom']\n",
            "\n",
            "Length and Membership Example:\n",
            "Number of superheroes: 4\n",
            "Number of villains: 5\n",
            "Enter a superhero name to check if it's in the list: Superman\n",
            "Sorry, Superman is not in your magical backpack.\n",
            "\n",
            "List Operations Example:\n",
            "All characters in the superhero universe: ['Spider-Man', 'Black Widow', 'Captain America', 'Hulk', 'Green Goblin', 'Loki', 'Red Skull', 'Thanos', 'Venom']\n",
            "Duplicate villains: ['Green Goblin', 'Loki', 'Red Skull', 'Thanos', 'Venom', 'Green Goblin', 'Loki', 'Red Skull', 'Thanos', 'Venom']\n",
            "\n",
            "List Methods Example:\n",
            "Original list of superheroes: ['Spider-Man', 'Black Widow', 'Captain America', 'Hulk']\n",
            "Sorted list of superheroes: ['Black Widow', 'Captain America', 'Hulk', 'Spider-Man']\n",
            "Updated list of superheroes: ['Black Widow', 'Hulk', 'Spider-Man']\n",
            "Reversed list of superheroes: ['Spider-Man', 'Hulk', 'Black Widow']\n"
          ]
        }
      ],
      "source": [
        "# Creating Lists\n",
        "superheroes = []  # Start with an empty list\n",
        "print(\"Your magical backpack of superheroes is ready!\")\n",
        "print(f\"List of superheroes: {superheroes}\")\n",
        "\n",
        "# Populate the List\n",
        "superheroes = [\"Spider-Man\", \"Iron Man\", \"Captain America\"]\n",
        "print(\"\\nNow your magical backpack of superheroes is filled!\")\n",
        "print(f\"List of superheroes: {superheroes}\")\n",
        "\n",
        "# Indexing\n",
        "print(\"\\nIndexing Example:\")\n",
        "print(f\"The first superhero is: {superheroes[0]}\")\n",
        "print(f\"The second superhero is: {superheroes[1]}\")\n",
        "print(f\"The last superhero is: {superheroes[-1]}\")\n",
        "\n",
        "# Updating and Adding Items\n",
        "print(\"\\nUpdating and Adding Items Example:\")\n",
        "superheroes[1] = \"Black Widow\"  # Update an item at index 1\n",
        "print(\"Updated list of superheroes:\", superheroes)\n",
        "\n",
        "superheroes.append(\"Hulk\")  # Add a new item to the end of the list\n",
        "print(\"Extended list of superheroes:\", superheroes)\n",
        "\n",
        "# Slicing\n",
        "print(\"\\nSlicing Example:\")\n",
        "villains = [\"Green Goblin\", \"Loki\", \"Red Skull\", \"Thanos\", \"Venom\"]\n",
        "print(\"List of villains: \", villains)\n",
        "print(\"The first three villains are:\", villains[:3])\n",
        "print(\"The last two villains are:\", villains[-2:])\n",
        "\n",
        "# Length and Membership\n",
        "print(\"\\nLength and Membership Example:\")\n",
        "print(\"Number of superheroes:\", len(superheroes))\n",
        "print(\"Number of villains:\", len(villains))\n",
        "\n",
        "hero = input(\"Enter a superhero name to check if it's in the list: \")\n",
        "if hero in superheroes:\n",
        "    print(f\"Yes, {hero} is in your magical backpack!\")\n",
        "else:\n",
        "    print(f\"Sorry, {hero} is not in your magical backpack.\")\n",
        "\n",
        "# List Operations\n",
        "print(\"\\nList Operations Example:\")\n",
        "all_characters = superheroes + villains  # Merge two lists\n",
        "print(\"All characters in the superhero universe:\", all_characters)\n",
        "\n",
        "duplicate_villains = villains * 2  # Create multiple copies of the list\n",
        "print(\"Duplicate villains:\", duplicate_villains)\n",
        "\n",
        "# List Methods\n",
        "print(\"\\nList Methods Example:\")\n",
        "print(\"Original list of superheroes:\", superheroes)\n",
        "\n",
        "superheroes.sort()  # Sort the list in alphabetical order\n",
        "print(\"Sorted list of superheroes:\", superheroes)\n",
        "\n",
        "superheroes.remove(\"Captain America\")  # Remove a specific item from the list\n",
        "print(\"Updated list of superheroes:\", superheroes)\n",
        "\n",
        "superheroes.reverse()  # Reverse the order of the list\n",
        "print(\"Reversed list of superheroes:\", superheroes)\n"
      ]
    },
    {
      "cell_type": "markdown",
      "metadata": {
        "id": "XLImC25QRdI-"
      },
      "source": [
        "**Now demonstrate how I can use loops and conditionals on lists. This time, use creative food-related examples, taking advantage of Python's randomness features.**"
      ]
    },
    {
      "cell_type": "code",
      "execution_count": null,
      "metadata": {
        "colab": {
          "base_uri": "https://localhost:8080/"
        },
        "id": "DmpNDZDJRibA",
        "outputId": "1f100d21-3278-446d-88f1-10360f30d853"
      },
      "outputs": [
        {
          "name": "stdout",
          "output_type": "stream",
          "text": [
            "=== Menu ===\n",
            "pizza\n",
            "burger\n",
            "sushi\n",
            "taco\n",
            "pasta\n",
            "\n",
            "=== Vegetarian Options ===\n",
            "pizza\n",
            "sushi\n",
            "taco\n",
            "pasta\n",
            "\n",
            "=== Random Food ===\n",
            "Enjoy your sushi\n",
            "\n",
            "=== Food Roulette ===\n",
            "Round 1: Better luck next time. You got taco\n",
            "Round 2: It's your lucky day! You got sushi!\n",
            "Round 3: Better luck next time. You got taco\n",
            "\n",
            "=== Price list ===\n",
            "pizza\t$7\n",
            "burger\t$15\n",
            "sushi\t$5\n",
            "taco\t$10\n",
            "pasta\t$14\n",
            "\n",
            "=== Meal deals ===\n",
            "\n",
            "Items in the SANDWICH meal deal:\n",
            "Item 1: sandwich\n",
            "Item 2: crisps\n",
            "Item 3: juice\n",
            "\n",
            "Items in the BURGER meal deal:\n",
            "Item 1: burger\n",
            "Item 2: fries\n",
            "Item 3: soda\n",
            "\n",
            "Items in the TACO meal deal:\n",
            "Item 1: taco\n",
            "Item 2: fruit\n",
            "Item 3: beer\n",
            "\n",
            "=== Beverages ===\n",
            "Original list of beverages: ['soda', 'juice', 'beer']\n",
            "Updated list of beverages: ['soda', 'water', 'juice', 'beer']\n",
            "\n",
            "=== All together ===\n",
            "Combined list of foods and beverages: ['pizza', 'burger', 'sushi', 'taco', 'pasta', 'soda', 'water', 'juice', 'beer']\n"
          ]
        }
      ],
      "source": [
        "import random\n",
        "\n",
        "foods = [\"pizza\", \"burger\", \"sushi\", \"taco\", \"pasta\"]\n",
        "\n",
        "# Looping over a list\n",
        "print(\"=== Menu ===\")\n",
        "for food in foods:\n",
        "    print(food)\n",
        "\n",
        "# Looping with conditionals\n",
        "print(\"\\n=== Vegetarian Options ===\")\n",
        "for food in foods:\n",
        "    if food != \"burger\":\n",
        "        print(food)\n",
        "\n",
        "# Randomly selecting a food\n",
        "print(\"\\n=== Random Food ===\")\n",
        "random_food = random.choice(foods)\n",
        "print(\"Enjoy your\", random_food)\n",
        "\n",
        "# Looping with a random twist\n",
        "print(\"\\n=== Food Roulette ===\")\n",
        "for i in range(3):\n",
        "    random_food = random.choice(foods)\n",
        "    if random_food == \"sushi\":\n",
        "        print(f\"Round {i+1}: It's your lucky day! You got sushi!\")\n",
        "    else:\n",
        "        print(f\"Round {i+1}: Better luck next time. You got {random_food}\")\n",
        "\n",
        "# Random prices with list comprehensions\n",
        "prices = [random.randint(2, 20) for _ in range(len(food))]\n",
        "print(\"\\n=== Price list ===\")\n",
        "for food, price in zip(foods, prices):\n",
        "    print(f\"{food}\\t${price}\")\n",
        "\n",
        "# Nested Lists and Nested Loops\n",
        "deals = [[\"sandwich\", \"crisps\", \"juice\"], [\"burger\", \"fries\", \"soda\"], [\"taco\", \"fruit\", \"beer\"]]\n",
        "\n",
        "print(\"\\n=== Meal deals ===\")\n",
        "for deal in deals:\n",
        "    print(f\"\\nItems in the {deal[0].upper()} meal deal:\")\n",
        "    for i, item in enumerate(deal):\n",
        "        print(f\"Item {i+1}: {item}\")\n",
        "\n",
        "# List Methods and Operations\n",
        "beverages = [\"soda\", \"juice\", \"beer\"]\n",
        "print(\"\\n=== Beverages ===\")\n",
        "print(\"Original list of beverages:\", beverages)\n",
        "beverages.insert(1, \"water\")\n",
        "print(\"Updated list of beverages:\", beverages)\n",
        "\n",
        "all_together = foods + beverages\n",
        "print(\"\\n=== All together ===\")\n",
        "print(\"Combined list of foods and beverages:\", all_together)"
      ]
    },
    {
      "cell_type": "markdown",
      "metadata": {
        "id": "gAynj4RtJVe1"
      },
      "source": [
        "**Explain everything I need to know about tuples in Python in a fun and creative way, using playful examples.**"
      ]
    },
    {
      "cell_type": "markdown",
      "metadata": {
        "id": "fg4xcwS7JaeD"
      },
      "source": [
        "Let's dive into some code examples using rock bands to illustrate the different aspects of tuples. We'll explore each item previously mentioned in a fun and creative way."
      ]
    },
    {
      "cell_type": "code",
      "execution_count": 4,
      "metadata": {
        "colab": {
          "base_uri": "https://localhost:8080/"
        },
        "id": "KEixZGYiJWrs",
        "outputId": "664bb083-b073-4954-eca2-32ad921bbe11"
      },
      "outputs": [
        {
          "output_type": "stream",
          "name": "stdout",
          "text": [
            "\n",
            "=== Immutable Lineup ===\n",
            "('The Beatles', 'Led Zeppelin', 'AC/DC', \"Guns N' Roses\", 'Queen')\n",
            "\n",
            "=== Ordered Placement ===\n",
            "Next band: The Beatles\n",
            "Next band: Led Zeppelin\n",
            "Next band: AC/DC\n",
            "Next band: Guns N' Roses\n",
            "Next band: Queen\n",
            "\n",
            "=== Mix and Match ===\n",
            "\n",
            "Beatles member: John Lennon\n",
            "Year of birth: 1940\n",
            "Is alive? True\n",
            "\n",
            "Beatles member: Paul McCartney\n",
            "Year of birth: 1942\n",
            "Is alive? True\n",
            "\n",
            "Beatles member: George Harrison\n",
            "Year of birth: 1943\n",
            "Is alive? False\n",
            "\n",
            "Beatles member: Ringo Starr\n",
            "Year of birth: 1940\n",
            "Is alive? True\n",
            "\n",
            "=== Efficient and Lightweight ===\n",
            "Size of the list: 72\n",
            "Size of the tuple: 56\n",
            "\n",
            "=== Unpacking Trick ===\n",
            "Band name: The Beatles\n",
            "Band members: ['John Lennon', 'Paul McCartney', 'George Harrison', 'Ringo Starr']\n"
          ]
        }
      ],
      "source": [
        "# Immutable Lineup\n",
        "print(\"\\n=== Immutable Lineup ===\")\n",
        "lineup = (\"The Beatles\", \"Led Zeppelin\", \"AC/DC\", \"Guns N' Roses\", \"Queen\")\n",
        "print(lineup)\n",
        "\n",
        "# Uncommenting the line below will raise an error\n",
        "# lineup[0] = \"Coldplay\"\n",
        "\n",
        "# Ordered Placement\n",
        "print(\"\\n=== Ordered Placement ===\")\n",
        "for band in lineup:\n",
        "    print(\"Next band:\", band)\n",
        "\n",
        "# Mix and Match\n",
        "print(\"\\n=== Mix and Match ===\")\n",
        "john = (\"John Lennon\", 1940, True)\n",
        "paul = (\"Paul McCartney\", 1942, True)\n",
        "george = (\"George Harrison\", 1943, False)\n",
        "ringo = (\"Ringo Starr\", 1940, True)\n",
        "\n",
        "beatles = (john, paul, george, ringo)\n",
        "\n",
        "for member in beatles:\n",
        "    print(\"\\nBeatles member:\", member[0])\n",
        "    print(\"Year of birth:\", member[1])\n",
        "    print(\"Is alive?\", member[2])\n",
        "\n",
        "# Efficient and Lightweight\n",
        "print(\"\\n=== Efficient and Lightweight ===\")\n",
        "\n",
        "beatles_list = [\"John Lennon\", \"Paul McCartney\", \"George Harrison\", \"Ringo Starr\"]\n",
        "beatles_tuple = (\"John Lennon\", \"Paul McCartney\", \"George Harrison\", \"Ringo Starr\")\n",
        "\n",
        "print(\"Size of the list:\", beatles_list.__sizeof__())\n",
        "print(\"Size of the tuple:\", beatles_tuple.__sizeof__())\n",
        "\n",
        "\n",
        "# Unpacking Trick\n",
        "print(\"\\n=== Unpacking Trick ===\")\n",
        "band = (\"The Beatles\", \"John Lennon\", \"Paul McCartney\", \"George Harrison\", \"Ringo Starr\")\n",
        "\n",
        "band_name, *members = band\n",
        "\n",
        "print(\"Band name:\", band_name)\n",
        "print(\"Band members:\", members)"
      ]
    },
    {
      "cell_type": "markdown",
      "metadata": {
        "id": "fd32-WMpLwhg"
      },
      "source": [
        "**Wait! There is a weird '*' before the \"members\" variable in the unpacking trick example above. What exactly is that?**\n",
        "\n",
        "In the example with the Beatles, the asterisk is used to assign the remaining members of the band tuple to the `members` variable. This allows for flexibility in case the number of members in the band is not known beforehand. However, if you know the quantity of remaining elements in the tuple, you can assign them to individual variables, as shown in the following variation of the example:"
      ]
    },
    {
      "cell_type": "code",
      "execution_count": null,
      "metadata": {
        "colab": {
          "base_uri": "https://localhost:8080/"
        },
        "id": "tdHj_OF2LxoO",
        "outputId": "1b47c446-526c-4808-864e-00c17bc67f1c"
      },
      "outputs": [
        {
          "name": "stdout",
          "output_type": "stream",
          "text": [
            "Band name: The Beatles\n",
            "Vocalist: John Lennon\n",
            "Guitarist: Paul McCartney\n",
            "Bassist: George Harrison\n",
            "Drummer: Ringo Starr\n"
          ]
        }
      ],
      "source": [
        "band = (\"The Beatles\", \"John Lennon\", \"Paul McCartney\", \"George Harrison\", \"Ringo Starr\")\n",
        "\n",
        "band_name, vocalist, guitarist, bassist, drummer = band\n",
        "\n",
        "print(\"Band name:\", band_name)\n",
        "print(\"Vocalist:\", vocalist)\n",
        "print(\"Guitarist:\", guitarist)\n",
        "print(\"Bassist:\", bassist)\n",
        "print(\"Drummer:\", drummer)  "
      ]
    },
    {
      "cell_type": "markdown",
      "metadata": {
        "id": "RF1WR6MQ3DzY"
      },
      "source": [
        "**Explain everything I need to know about sets in Python in a fun and creative way, using playful examples.**"
      ]
    },
    {
      "cell_type": "markdown",
      "metadata": {
        "id": "tNc6hzDk3HYn"
      },
      "source": [
        "Certainly! Here are some code samples that demonstrate sets using planets fun facts:"
      ]
    },
    {
      "cell_type": "code",
      "execution_count": null,
      "metadata": {
        "colab": {
          "background_save": true,
          "base_uri": "https://localhost:8080/"
        },
        "id": "pOUSq8hx3HlJ",
        "outputId": "186bc7d4-abbc-4703-8190-daec48f4e07d"
      },
      "outputs": [
        {
          "name": "stdout",
          "output_type": "stream",
          "text": [
            "\n",
            "=== Unique Collections ===\n",
            "Planets (unique values: 8): {'Saturn', 'Mars', 'Mercury', 'Venus', 'Neptune', 'Jupiter', 'Uranus', 'Earth'}\n",
            "Moons (unique values: 7): {0, 1, 2, 82, 27, 14, 79}\n",
            "Locations (unique values: 2): {'inner', 'outer'}\n",
            "Galaxies (unique values: 1): {'Milky Way'}\n",
            "\n",
            "=== No Duplicates  ===\n",
            "Before adding \"Earth\": {'Saturn', 'Mars', 'Mercury', 'Venus', 'Neptune', 'Jupiter', 'Uranus', 'Earth'}\n",
            "After adding \"Earth\": {'Saturn', 'Mars', 'Mercury', 'Venus', 'Neptune', 'Jupiter', 'Uranus', 'Earth'}\n",
            "\n",
            "=== Fast Membership  ===\n",
            "Is Earth in planets?  True\n",
            "Is Pluto in planets?  False\n",
            "\n",
            "=== Magical Operations  ===\n",
            "set()\n",
            "\n",
            "=== Mutable and Unordered  ===\n",
            "{'Saturn', 'Mars', 'Mercury', 'Venus', 'Jupiter', 'Uranus', 'Earth'}\n",
            "\n",
            "=== Magical Removal  ===\n",
            "{'Saturn', 'Mars', 'Mercury', 'Venus', 'Jupiter', 'Uranus', 'Earth'}\n",
            "\n",
            "=== Joining Forces  ===\n",
            "{'Saturn', 'Eris', 'Pluto', 'Mars', 'Haumea', 'Mercury', 'Venus', 'Jupiter', 'Uranus', 'Earth'}\n"
          ]
        }
      ],
      "source": [
        "# Unique Collection\n",
        "print(\"\\n=== Unique Collections ===\")\n",
        "\n",
        "planets = {\"Mercury\", \"Venus\", \"Earth\", \"Mars\", \"Jupiter\", \"Saturn\", \"Uranus\", \"Neptune\"}\n",
        "moons = {0, 0, 1, 2, 79, 82, 27, 14}\n",
        "locations = {\"inner\", \"inner\", \"inner\", \"inner\", \"outer\", \"outer\", \"outer\", \"outer\"}\n",
        "galaxies = {\"Milky Way\", \"Milky Way\", \"Milky Way\", \"Milky Way\", \"Milky Way\", \"Milky Way\", \"Milky Way\", \"Milky Way\"}\n",
        "\n",
        "print(f\"Planets (unique values: {len(planets)}):\", planets)\n",
        "print(f\"Moons (unique values: {len(moons)}):\", moons)\n",
        "print(f\"Locations (unique values: {len(locations)}):\", locations)\n",
        "print(f\"Galaxies (unique values: {len(galaxies)}):\", galaxies)\n",
        "\n",
        "# No Duplicate Planets\n",
        "print(\"\\n=== No Duplicates  ===\")\n",
        "print('Before adding \"Earth\":', planets)\n",
        "planets.add(\"Earth\")  # Adding a duplicate planet will have no effect\n",
        "print('After adding \"Earth\":', planets)\n",
        "\n",
        "# Fast Membership Testing\n",
        "print(\"\\n=== Fast Membership  ===\")\n",
        "print(\"Is Earth in planets? \", \"Earth\" in planets)  \n",
        "print(\"Is Pluto in planets? \", \"Pluto\" in planets)  \n",
        "\n",
        "# Magical Operations\n",
        "print(\"\\n=== Magical Operations  ===\")\n",
        "gas_giants = {\"Jupiter\", \"Saturn\"}\n",
        "rocky_planets = {\"Mercury\", \"Venus\", \"Earth\", \"Mars\"}\n",
        "common_planets = gas_giants.intersection(rocky_planets)\n",
        "print(common_planets)  \n",
        "\n",
        "# Mutable and Unordered\n",
        "print(\"\\n=== Mutable and Unordered  ===\")\n",
        "planets.remove(\"Neptune\")\n",
        "print(planets)  \n",
        "\n",
        "# Magical Removal\n",
        "print(\"\\n=== Magical Removal  ===\")\n",
        "planets.discard(\"Pluto\")  # Removing a planet that doesn't exist has no effect\n",
        "print(planets)  \n",
        "\n",
        "# Joining Forces\n",
        "print(\"\\n=== Joining Forces  ===\")\n",
        "dwarf_planets = {\"Pluto\", \"Eris\", \"Haumea\"}\n",
        "all_planets = planets.union(dwarf_planets)\n",
        "print(all_planets)     "
      ]
    },
    {
      "cell_type": "markdown",
      "metadata": {
        "id": "A6x0Jm7sUwe4"
      },
      "source": [
        "**Now let's look at some code examples to see strings in action! Consider using classic children's books to illustrate the items you listed previously.**"
      ]
    },
    {
      "cell_type": "markdown",
      "metadata": {
        "id": "_H_GTUYrXAxW"
      },
      "source": [
        "Certainly! Let's dive into the enchanting world of classic children's books and explore the power of strings. Here are some delightful code examples:"
      ]
    },
    {
      "cell_type": "code",
      "source": [
        "# Mix and Match (single strings)\n",
        "print(\"\\n=== Mix and Match (single strings) ===\")\n",
        "book1 = \"Alice in Wonderland\"\n",
        "book2 = \"Peter Pan\"\n",
        "books = book1 + \" and \" + book2\n",
        "print(f\"Book 1: {book1}\")\n",
        "print(f\"Book 2: {book2}\")\n",
        "print(f\"{books} together make a terrific reading pack for children!\")\n",
        "\n",
        "# Mix and Match (list of strings)\n",
        "print(\"\\n=== Mix and Match (list of strings) ===\")\n",
        "titles = [\"The Fellowship of the Ring\", \"The Two Towers\", \"The Return of the King\"]\n",
        "\n",
        "# Use str.join() instead of \"+\" to concatenate multiple strings\n",
        "collection = \" and \".join(titles)\n",
        "print(f\"{collection} are the beloved books of the Lord of the Rings trilogy.\")\n",
        "\n",
        "# Mighty Replication\n",
        "print(\"\\n=== Mighty Replication ===\")\n",
        "phrase = \"\\tI'll huff and I'll puff and I'll blow your house down\\n\"\n",
        "wolf_talk = phrase * 3\n",
        "dialogue = \"And then,\\n\" + wolf_talk + \"the wolf exclaimed.\"\n",
        "print(dialogue)\n",
        "\n",
        "# Case Secrets\n",
        "print(\"\\n=== Case Secrets ===\")\n",
        "book = \"Harry Potter and the sorcerer's stone\"\n",
        "title_case = book.title()\n",
        "upper_case = book.upper()\n",
        "lower_case = book.lower()\n",
        "swap_case = book.swapcase()\n",
        "print(\"Original:   \", book)  \n",
        "print(\"Title case: \", title_case)  \n",
        "print(\"Upper case: \", upper_case) \n",
        "print(\"Lower case: \", lower_case) \n",
        "print(\"Swap case:  \", swap_case)   \n",
        "\n",
        "# Character Quest\n",
        "print(\"\\n=== Character Quest ===\")\n",
        "story = \"Little Red Riding Hood\"\n",
        "print(f\"Original text:\\t\\t {story}\")\n",
        "print(f\"First character:\\t {story[0]}\")  # Accessing first character with index\n",
        "print(f\"First 6 characters:\\t {story[:6]}\")  # First 6 characters using slicing\n",
        "print(f\"Every other character:\\t {story[::2]}\")  # Traverse every other character\n",
        "vowels = \"aeiou\"\n",
        "print(f\"Consonants only:\\t {''.join([c for c in story if c not in vowels])}\")  \n",
        "print(f\"Vowels found:\\t\\t {set([c for c in story if c in vowels])}\")  \n",
        "\n",
        "# Transforming Magic\n",
        "print(\"\\n=== Transforming Magic ===\")\n",
        "quote = \"Oh, mirror on the wall, who's the fairest one of all?\"\n",
        "split_words = quote.split()\n",
        "replaced_word = quote.replace(\"all\", \"[any]\")\n",
        "blanks_removed = quote.replace(\" \", \"\")\n",
        "reversed_string = quote[::-1]\n",
        "reversed_words = split_words[::-1]\n",
        "\n",
        "print(\"Original quote:\\t\\t\", quote)\n",
        "print(\"Character length:\\t\", len(quote))\n",
        "print(\"Split words:\\t\\t\", split_words)\n",
        "print(\"Words length:\\t\\t\", len(split_words))\n",
        "print(\"Replaced word:\\t\\t\", replaced_word)\n",
        "print(\"Blanks removed:\\t\\t\", blanks_removed)\n",
        "print(\"Reversed string:\\t\", reversed_string)\n",
        "print(\"Reversed words:\\t\\t\", reversed_words)\n",
        "print(\"Sentence completion:\")\n",
        "for i in range(len(split_words)):\n",
        "    print(\"\\t\" + \" \".join(split_words[:i + 1]))\n",
        "    \n",
        "# More Tricks\n",
        "print(\"\\n=== More Tricks ===\")\n",
        "books = ['\"Beauty and the Beast\"', '\"The Little Prince\"', '\"The Wizard of Oz\"', '\"1001 Nights\"', '\"The Jungle Book\"']\n",
        "for book in books:\n",
        "    # Find\n",
        "    print(\"\\nBook title:\\t\\t\", book)\n",
        "    print(\"'Oz' found at position:\", book.find(\"Oz\"))  \n",
        "    # StartsWith and EndsWith\n",
        "    print(\"Starts with 'The':\\t\", book.startswith('\"The'))\n",
        "    print(\"Ends with 'Book':\\t\", book.endswith('Book\"'))\n",
        "    # IsAlpha and IsDigit\n",
        "    print(\"Begins with a word:\\t\", book[1:4].isalpha())  \n",
        "    print(\"Begins with a number:\\t\", book[1:4].isdigit())  \n",
        "    # Strip\n",
        "    print('Stripped of double quotes:', book.strip('\"'))"
      ],
      "metadata": {
        "colab": {
          "base_uri": "https://localhost:8080/"
        },
        "id": "X8EUp03qRg3I",
        "outputId": "dbf15f8d-2a0b-4abd-f604-aef0981e44ec"
      },
      "execution_count": 5,
      "outputs": [
        {
          "output_type": "stream",
          "name": "stdout",
          "text": [
            "\n",
            "=== Mix and Match (single strings) ===\n",
            "Book 1: Alice in Wonderland\n",
            "Book 2: Peter Pan\n",
            "Alice in Wonderland and Peter Pan together make a terrific reading pack for children!\n",
            "\n",
            "=== Mix and Match (list of strings) ===\n",
            "The Fellowship of the Ring and The Two Towers and The Return of the King are the beloved books of the Lord of the Rings trilogy.\n",
            "\n",
            "=== Mighty Replication ===\n",
            "And then,\n",
            "\tI'll huff and I'll puff and I'll blow your house down\n",
            "\tI'll huff and I'll puff and I'll blow your house down\n",
            "\tI'll huff and I'll puff and I'll blow your house down\n",
            "the wolf exclaimed.\n",
            "\n",
            "=== Case Secrets ===\n",
            "Original:    Harry Potter and the sorcerer's stone\n",
            "Title case:  Harry Potter And The Sorcerer'S Stone\n",
            "Upper case:  HARRY POTTER AND THE SORCERER'S STONE\n",
            "Lower case:  harry potter and the sorcerer's stone\n",
            "Swap case:   hARRY pOTTER AND THE SORCERER'S STONE\n",
            "\n",
            "=== Character Quest ===\n",
            "Original text:\t\t Little Red Riding Hood\n",
            "First character:\t L\n",
            "First 6 characters:\t Little\n",
            "Every other character:\t Ltl e iigHo\n",
            "Consonants only:\t Lttl Rd Rdng Hd\n",
            "Vowels found:\t\t {'o', 'e', 'i'}\n",
            "\n",
            "=== Transforming Magic ===\n",
            "Original quote:\t\t Oh, mirror on the wall, who's the fairest one of all?\n",
            "Character length:\t 53\n",
            "Split words:\t\t ['Oh,', 'mirror', 'on', 'the', 'wall,', \"who's\", 'the', 'fairest', 'one', 'of', 'all?']\n",
            "Words length:\t\t 11\n",
            "Replaced word:\t\t Oh, mirror on the w[any], who's the fairest one of [any]?\n",
            "Blanks removed:\t\t Oh,mirroronthewall,who'sthefairestoneofall?\n",
            "Reversed string:\t ?lla fo eno tseriaf eht s'ohw ,llaw eht no rorrim ,hO\n",
            "Reversed words:\t\t ['all?', 'of', 'one', 'fairest', 'the', \"who's\", 'wall,', 'the', 'on', 'mirror', 'Oh,']\n",
            "Sentence completion:\n",
            "\tOh,\n",
            "\tOh, mirror\n",
            "\tOh, mirror on\n",
            "\tOh, mirror on the\n",
            "\tOh, mirror on the wall,\n",
            "\tOh, mirror on the wall, who's\n",
            "\tOh, mirror on the wall, who's the\n",
            "\tOh, mirror on the wall, who's the fairest\n",
            "\tOh, mirror on the wall, who's the fairest one\n",
            "\tOh, mirror on the wall, who's the fairest one of\n",
            "\tOh, mirror on the wall, who's the fairest one of all?\n",
            "\n",
            "=== More Tricks ===\n",
            "\n",
            "Book title:\t\t \"Beauty and the Beast\"\n",
            "'Oz' found at position: -1\n",
            "Starts with 'The':\t False\n",
            "Ends with 'Book':\t False\n",
            "Begins with a word:\t True\n",
            "Begins with a number:\t False\n",
            "Stripped of double quotes: Beauty and the Beast\n",
            "\n",
            "Book title:\t\t \"The Little Prince\"\n",
            "'Oz' found at position: -1\n",
            "Starts with 'The':\t True\n",
            "Ends with 'Book':\t False\n",
            "Begins with a word:\t True\n",
            "Begins with a number:\t False\n",
            "Stripped of double quotes: The Little Prince\n",
            "\n",
            "Book title:\t\t \"The Wizard of Oz\"\n",
            "'Oz' found at position: 15\n",
            "Starts with 'The':\t True\n",
            "Ends with 'Book':\t False\n",
            "Begins with a word:\t True\n",
            "Begins with a number:\t False\n",
            "Stripped of double quotes: The Wizard of Oz\n",
            "\n",
            "Book title:\t\t \"1001 Nights\"\n",
            "'Oz' found at position: -1\n",
            "Starts with 'The':\t False\n",
            "Ends with 'Book':\t False\n",
            "Begins with a word:\t False\n",
            "Begins with a number:\t True\n",
            "Stripped of double quotes: 1001 Nights\n",
            "\n",
            "Book title:\t\t \"The Jungle Book\"\n",
            "'Oz' found at position: -1\n",
            "Starts with 'The':\t True\n",
            "Ends with 'Book':\t True\n",
            "Begins with a word:\t True\n",
            "Begins with a number:\t False\n",
            "Stripped of double quotes: The Jungle Book\n"
          ]
        }
      ]
    },
    {
      "cell_type": "markdown",
      "metadata": {
        "id": "sb0TKWl4IhdP"
      },
      "source": [
        "**Explain everything I need to know about dictionaries in Python in a fun and creative way, using playful examples.**"
      ]
    },
    {
      "cell_type": "markdown",
      "metadata": {
        "id": "rKfNX_z9-X8A"
      },
      "source": [
        "Certainly! Here are some code samples showcasing the power of dictionaries in the realm of superheroes:"
      ]
    },
    {
      "cell_type": "code",
      "execution_count": null,
      "metadata": {
        "colab": {
          "base_uri": "https://localhost:8080/"
        },
        "id": "HuhFwdqDIhzO",
        "outputId": "1802425f-114f-41b7-c28c-298d97b06ceb"
      },
      "outputs": [
        {
          "name": "stdout",
          "output_type": "stream",
          "text": [
            "\n",
            "=== Key-Value Pairs ===\n",
            "\n",
            "Keys in Spiderman dictionary:\n",
            "\tpowers\n",
            "\tallies\n",
            "\tenemies\n",
            "\n",
            "Values in Spiderman dictionary:\n",
            "\t['superhuman strength', 'wall-crawling', 'web-slinging']\n",
            "\t['Iron Man', 'Captain America', 'Black Widow']\n",
            "\t['Green Goblin', 'Venom', 'Doc Octopus']\n",
            "\n",
            "Key-Value pairs in Spiderman dictionary:\n",
            "powers -> ['superhuman strength', 'wall-crawling', 'web-slinging']\n",
            "allies -> ['Iron Man', 'Captain America', 'Black Widow']\n",
            "enemies -> ['Green Goblin', 'Venom', 'Doc Octopus']\n",
            "\n",
            "=== Superfast Lookups ===\n",
            "Spider-Man's powers: ['superhuman strength', 'wall-crawling', 'web-slinging']\n",
            "Spider-Man's allies: ['Iron Man', 'Captain America', 'Black Widow']\n",
            "Spider-Man's enemies: ['Green Goblin', 'Venom', 'Doc Octopus']\n",
            "\n",
            "=== No Duplicates ===\n",
            "Spider-Man's powers:\t ['superhuman strength', 'wall-crawling', 'web-slinging']\n",
            "Spider-Man's updated powers: ['stamina', 'fancy custome']\n",
            "\n",
            "=== Dynamic and Versatile ===\n",
            "Spider-Man's enemies:\t ['Green Goblin', 'Venom', 'Doc Octopus']\n",
            "Spider-Man's updated enemies: ['Venom', 'Doc Octopus', 'Carnage']\n"
          ]
        }
      ],
      "source": [
        "# Create a superhero dictionary\n",
        "spiderman = {    \n",
        "    \"powers\": [\"superhuman strength\", \"wall-crawling\", \"web-slinging\"],\n",
        "    \"allies\": [\"Iron Man\", \"Captain America\", \"Black Widow\"],\n",
        "    \"enemies\": [\"Green Goblin\", \"Venom\", \"Doc Octopus\"]\n",
        "}\n",
        "\n",
        "# Key-value Pairs\n",
        "print(\"\\n=== Key-Value Pairs ===\")\n",
        "\n",
        "print(\"\\nKeys in Spiderman dictionary:\")\n",
        "for key in spiderman.keys():\n",
        "    print(f\"\\t{key}\")\n",
        "\n",
        "print(\"\\nValues in Spiderman dictionary:\")\n",
        "for value in spiderman.values():\n",
        "    print(f\"\\t{value}\")\n",
        "\n",
        "print(\"\\nKey-Value pairs in Spiderman dictionary:\")\n",
        "for key, value in spiderman.items():\n",
        "    print(f\"{key} -> {value}\") \n",
        "\n",
        "# Superfast Lookups\n",
        "print(\"\\n=== Superfast Lookups ===\")\n",
        "print(\"Spider-Man's powers:\", spiderman[\"powers\"]) # Attributes are indexed by key\n",
        "print(\"Spider-Man's allies:\", spiderman[\"allies\"]) \n",
        "print(\"Spider-Man's enemies:\", spiderman[\"enemies\"]) \n",
        "\n",
        "# No Duplicates\n",
        "print(\"\\n=== No Duplicates ===\")\n",
        "print(\"Spider-Man's powers:\\t\", spiderman[\"powers\"])\n",
        "spiderman.update({\"powers\" : [\"stamina\", \"fancy custome\"]}) # Duplicate key, overwrite\n",
        "print(\"Spider-Man's updated powers:\", spiderman[\"powers\"])\n",
        "\n",
        "# Dynamic and Versatile\n",
        "print(\"\\n=== Dynamic and Versatile ===\")\n",
        "print(\"Spider-Man's enemies:\\t\", spiderman[\"enemies\"])\n",
        "spiderman[\"enemies\"].remove(\"Green Goblin\")\n",
        "spiderman[\"enemies\"].append(\"Carnage\")\n",
        "print(\"Spider-Man's updated enemies:\", spiderman[\"enemies\"])\n"
      ]
    },
    {
      "cell_type": "markdown",
      "metadata": {
        "id": "_PdkU6FgWLBl"
      },
      "source": [
        "**What about putting together a superhero encyclopedia? Can I implement it as a dictionary of dictionaries? Some kind of nested dictionary? Use a code example to illustrate**"
      ]
    },
    {
      "cell_type": "markdown",
      "metadata": {
        "id": "d8TdySU5WS-g"
      },
      "source": [
        "\n",
        "Certainly! You can implement a superhero encyclopedia using a nested dictionary structure. Each superhero can be represented as a key in the outer dictionary, and the corresponding value can be an inner dictionary containing the superhero's details. "
      ]
    },
    {
      "cell_type": "code",
      "execution_count": 2,
      "metadata": {
        "colab": {
          "base_uri": "https://localhost:8080/"
        },
        "id": "FdRurD65WXGd",
        "outputId": "20874c04-309d-4249-88e9-1c18a8651d18"
      },
      "outputs": [
        {
          "output_type": "stream",
          "name": "stdout",
          "text": [
            "dict_keys(['Wonder Woman', 'Black Widow', 'Captain Marvel', 'Storm', 'Superman', 'Spider-Man', 'Hulk', 'Batman', 'Wolverine'])\n",
            "\n",
            "Enter a name to search for in the superhero encyclopedia:  black widow\n",
            "------------------\n",
            "    Black Widow     \n",
            "------------------\n",
            "Powers: Master spy, Hand-to-hand combat, Espionage\n",
            "Allies: Captain America, Hawkeye\n",
            "Enemies: Taskmaster, Red Guardian\n",
            "Debut Year: 1964\n",
            "\n",
            "Which attribute (powers/allies/enemies/debut) would you like to see? debut\n",
            "----------------------------------------------\n",
            "              Superhero Encyclopedia              \n",
            "----------------------------------------------\n",
            "    Wonder Woman     -> 1941\n",
            "    Black Widow      -> 1964\n",
            "   Captain Marvel    -> 1968\n",
            "       Storm         -> 1975\n",
            "      Superman       -> 1938\n",
            "     Spider-Man      -> 1962\n",
            "       Batman        -> 1939\n",
            "     Wolverine       -> 1974\n",
            "  Captain America    -> 1941\n"
          ]
        }
      ],
      "source": [
        "# Creating the superhero encyclopedia\n",
        "superheroes = {\n",
        "    \"Wonder Woman\": {\n",
        "        \"powers\": [\"Superhuman strength\", \"Lasso of Truth\", \"Flight\"],\n",
        "        \"allies\": [\"Superman\", \"Batman\"],\n",
        "        \"enemies\": [\"Cheetah\", \"Ares\"],\n",
        "        \"debut\": 1941\n",
        "    },\n",
        "    \"Black Widow\": {\n",
        "        \"powers\": [\"Master spy\", \"Hand-to-hand combat\", \"Espionage\"],\n",
        "        \"allies\": [\"Captain America\", \"Hawkeye\"],\n",
        "        \"enemies\": [\"Taskmaster\", \"Red Guardian\"],\n",
        "        \"debut\": 1964\n",
        "    },\n",
        "    \"Captain Marvel\": {\n",
        "        \"powers\": [\"Superhuman strength\", \"Energy projection\", \"Flight\"],\n",
        "        \"allies\": [\"Iron Man\", \"Thor\"],\n",
        "        \"enemies\": [\"Thanos\", \"Yon-Rogg\"],\n",
        "        \"debut\": 1968\n",
        "    },\n",
        "    \"Storm\": {\n",
        "        \"powers\": [\"Weather manipulation\", \"Flight\", \"Energy absorption\"],\n",
        "        \"allies\": [\"Wolverine\", \"Cyclops\"],\n",
        "        \"enemies\": [\"Magneto\", \"Apocalypse\"],\n",
        "        \"debut\": 1975\n",
        "    },\n",
        "    \"Superman\": {\n",
        "        \"powers\": [\"Superhuman strength\", \"Flight\", \"Heat vision\"],\n",
        "        \"allies\": [\"Batman\", \"Wonder Woman\"],\n",
        "        \"enemies\": [\"Lex Luthor\", \"Doomsday\"],\n",
        "        \"debut\": 1938\n",
        "    },\n",
        "    \"Spider-Man\": {\n",
        "        \"powers\": [\"Wall-crawling\", \"Spider-sense\", \"Web-slinging\"],\n",
        "        \"allies\": [\"Iron Man\", \"Captain America\"],\n",
        "        \"enemies\": [\"Green Goblin\", \"Venom\", \"Doc Octopus\"],\n",
        "        \"debut\": 1962\n",
        "    },\n",
        "    \"Hulk\": {\n",
        "        \"powers\": [\"Superhuman strength\", \"Invulnerability\", \"Regeneration\"],\n",
        "        \"allies\": [\"Thor\", \"Black Widow\"],\n",
        "        \"enemies\": [\"Abomination\", \"Red Hulk\"],\n",
        "        \"debut\": 1962\n",
        "    },\n",
        "    \"Batman\": {\n",
        "        \"powers\": [\"Intelligence\", \"Riches\", \"Martial arts\"],\n",
        "        \"allies\": [\"Superman\", \"Wonder Woman\"],\n",
        "        \"enemies\": [\"Joker\", \"Bane\"],\n",
        "        \"debut\": 1939\n",
        "    },\n",
        "    \"Wolverine\": {\n",
        "        \"powers\": [\"regeneration\", \"adamantium claws\", \"heightened senses\"],\n",
        "        \"allies\": [\"Professor X\", \"Cyclops\", \"Storm\"],\n",
        "        \"enemies\": [\"Sabretooth\", \"Magneto\", \"Mystique\"],\n",
        "        \"debut\": 1974\n",
        "    }\n",
        "}\n",
        "\n",
        "print(superheroes.keys())\n",
        "\n",
        "# Printing details of a superhero given a name in the encyclopedia \n",
        "name = input(\"\\nEnter a name to search for in the superhero encyclopedia:  \")\n",
        "name = name.title() # Capitalize first letter of each word in name\n",
        "\n",
        "if name in superheroes:\n",
        "    superhero = superheroes[name]\n",
        "    print(\"------------------\")\n",
        "    print(f\"{name:^20}\")\n",
        "    print(\"------------------\")\n",
        "    print(f\"Powers: {', '.join(superhero['powers'])}\")\n",
        "    print(f\"Allies: {', '.join(superhero['allies'])}\")\n",
        "    print(f\"Enemies: {', '.join(superhero['enemies'])}\")\n",
        "    print(f\"Debut Year: {superhero['debut']}\")\n",
        "else:\n",
        "    print(\"Sorry, superhero not found in the encyclopedia.\")\n",
        "\n",
        "# Adding new superheroes\n",
        "superheroes[\"Captain America\"] = {\n",
        "    \"powers\": [\"Superhuman strength\", \"Shield throwing\", \"Leadership\"],\n",
        "    \"allies\": [\"Iron Man\", \"Thor\"],\n",
        "    \"enemies\": [\"Red Skull\", \"Winter Soldier\"],\n",
        "    \"debut\": 1941\n",
        "}\n",
        "\n",
        "# Removing a superhero\n",
        "del superheroes[\"Hulk\"]\n",
        "\n",
        "# Updating superheroes details \n",
        "superheroes[\"Wolverine\"][\"allies\"].append(\"Jean Grey\")\n",
        "superheroes[\"Spider-Man\"][\"enemies\"].remove(\"Doc Octopus\")\n",
        "\n",
        "# Printing the updated superhero encyclopedia\n",
        "value = input(\"\\nWhich attribute (powers/allies/enemies/debut) would you like to see? \")\n",
        "value = value.lower() # Convert attribute to lowercase\n",
        "\n",
        "print(\"----------------------------------------------\")\n",
        "print(f\"{'Superhero Encyclopedia':^50}\")\n",
        "print(\"----------------------------------------------\")\n",
        "for key in superheroes.keys():\n",
        "    if value in superheroes[key]:\n",
        "        print(f\"{key:^20} -> {superheroes[key][value]}\")\n",
        "    else:\n",
        "        print(f\"Sorry, no {value} found for superhero {key}\")\n"
      ]
    },
    {
      "cell_type": "markdown",
      "metadata": {
        "id": "wUV3Y6-S-Zkp"
      },
      "source": [
        "**You also mentioned that dictionaries enable us to explore intricate relationships and connections between items within the dictionary. What does that mean? Can dictionaries help me determine relationships such as 'the enemies of my allies are my enemies', 'the allies of my allies are my friends', 'the heroes with the same superpower as mine are my buddies' or 'display a table of superheroes sorted by debut year'? Please provide some examples.**"
      ]
    },
    {
      "cell_type": "markdown",
      "source": [
        "Example 1: The enemies of my allies are my enemies"
      ],
      "metadata": {
        "id": "HTZSTNdc0uAA"
      }
    },
    {
      "cell_type": "code",
      "execution_count": 47,
      "metadata": {
        "colab": {
          "base_uri": "https://localhost:8080/"
        },
        "id": "sLfmUzcj73d7",
        "outputId": "939e7b6d-2cc9-4c60-cc0e-23936625aa25"
      },
      "outputs": [
        {
          "output_type": "stream",
          "name": "stdout",
          "text": [
            "--------------------------------------------------------------------------------\n",
            "                                Original Enemies                                \n",
            "--------------------------------------------------------------------------------\n",
            "Wonder Woman -> ['Cheetah', 'Ares']\n",
            "Black Widow -> ['Taskmaster', 'Red Guardian']\n",
            "Captain Marvel -> ['Thanos', 'Yon-Rogg']\n",
            "  Storm    -> ['Magneto', 'Apocalypse']\n",
            " Superman  -> ['Lex Luthor', 'Doomsday']\n",
            "Spider-Man -> ['Green Goblin', 'Venom']\n",
            "  Batman   -> ['Joker', 'Bane']\n",
            "Wolverine  -> ['Sabretooth', 'Magneto', 'Mystique']\n",
            "Captain America -> ['Red Skull', 'Winter Soldier']\n",
            "--------------------------------------------------------------------------------\n",
            "                    The Enemies of My Allies are My Enemies                     \n",
            "--------------------------------------------------------------------------------\n",
            "Wonder Woman -> ['Cheetah', 'Ares', 'Lex Luthor', 'Doomsday', 'Joker', 'Bane']\n",
            "Black Widow -> ['Taskmaster', 'Red Guardian', 'Red Skull', 'Winter Soldier']\n",
            "Captain Marvel -> ['Thanos', 'Yon-Rogg']\n",
            "  Storm    -> ['Magneto', 'Apocalypse', 'Sabretooth', 'Magneto', 'Mystique']\n",
            " Superman  -> ['Lex Luthor', 'Doomsday', 'Joker', 'Bane', 'Cheetah', 'Ares']\n",
            "Spider-Man -> ['Green Goblin', 'Venom', 'Red Skull', 'Winter Soldier']\n",
            "  Batman   -> ['Joker', 'Bane', 'Lex Luthor', 'Doomsday', 'Cheetah', 'Ares']\n",
            "Wolverine  -> ['Sabretooth', 'Magneto', 'Mystique', 'Magneto', 'Apocalypse']\n",
            "Captain America -> ['Red Skull', 'Winter Soldier']\n"
          ]
        }
      ],
      "source": [
        "# Constructing a dictionary to store extended enemies\n",
        "allies_enemies = {}\n",
        "for hero, details in superheroes.items():\n",
        "    allies = details[\"allies\"]\n",
        "    enemies = details[\"enemies\"]\n",
        "    for ally in [hero] + allies:\n",
        "        # Check if the hero is not already present in the allies_enemies dictionary\n",
        "        if hero not in allies_enemies:\n",
        "            allies_enemies[hero] = []\n",
        "        # Check if the ally exists in the superheroes dictionary\n",
        "        if ally in superheroes:\n",
        "            # Extend the list of enemies for the hero with the enemies of the ally\n",
        "            allies_enemies[hero].extend(superheroes[ally][\"enemies\"])\n",
        "\n",
        "# Printing the original enemies\n",
        "print('-'*80)\n",
        "print(f\"{'Original Enemies':^80}\")\n",
        "print('-'*80)\n",
        "for hero, details in superheroes.items():\n",
        "    print(f\"{hero:^10} -> {details['enemies']}\")\n",
        "\n",
        "# Printing the extended enemies\n",
        "print('-'*80)\n",
        "print(f\"{'The Enemies of My Allies are My Enemies':^80}\")\n",
        "print('-'*80)\n",
        "for ally, enemies in allies_enemies.items():\n",
        "    print(f\"{ally:^10} -> {enemies}\")"
      ]
    },
    {
      "cell_type": "markdown",
      "metadata": {
        "id": "I6xB-bSf-bMc"
      },
      "source": [
        "Example 2: The allies of my allies are my friends"
      ]
    },
    {
      "cell_type": "code",
      "execution_count": 46,
      "metadata": {
        "colab": {
          "base_uri": "https://localhost:8080/"
        },
        "id": "eTJftpAQ8DA7",
        "outputId": "727bb5b2-1489-45e4-ab53-d1be2364e1b4"
      },
      "outputs": [
        {
          "output_type": "stream",
          "name": "stdout",
          "text": [
            "--------------------------------------------------------------------------------\n",
            "                                Original Allies                                 \n",
            "--------------------------------------------------------------------------------\n",
            "Wonder Woman -> ['Superman', 'Batman']\n",
            "Black Widow -> ['Captain America', 'Hawkeye']\n",
            "Captain Marvel -> ['Iron Man', 'Thor']\n",
            "  Storm    -> ['Wolverine', 'Cyclops']\n",
            " Superman  -> ['Batman', 'Wonder Woman']\n",
            "Spider-Man -> ['Iron Man', 'Captain America']\n",
            "  Batman   -> ['Superman', 'Wonder Woman']\n",
            "Wolverine  -> ['Professor X', 'Cyclops', 'Storm', 'Jean Grey']\n",
            "Captain America -> ['Iron Man', 'Thor']\n",
            "--------------------------------------------------------------------------------\n",
            "                     The Allies of My Allies are My Friends                     \n",
            "--------------------------------------------------------------------------------\n",
            "Wonder Woman -> {'Superman', 'Batman'}\n",
            "Black Widow -> {'Iron Man', 'Captain America', 'Hawkeye', 'Thor'}\n",
            "Captain Marvel -> {'Iron Man', 'Thor'}\n",
            "  Storm    -> {'Cyclops', 'Professor X', 'Wolverine', 'Jean Grey'}\n",
            " Superman  -> {'Batman', 'Wonder Woman'}\n",
            "Spider-Man -> {'Captain America', 'Iron Man', 'Thor'}\n",
            "  Batman   -> {'Superman', 'Wonder Woman'}\n",
            "Wolverine  -> {'Storm', 'Professor X', 'Cyclops', 'Jean Grey'}\n",
            "Captain America -> {'Iron Man', 'Thor'}\n"
          ]
        }
      ],
      "source": [
        "# Constructing a dictionary to store extended friends\n",
        "allies_friends = {}\n",
        "for hero, details in superheroes.items():\n",
        "    allies = details[\"allies\"]\n",
        "    for ally in [hero] + allies:\n",
        "       if ally in superheroes:\n",
        "            # Finding friends of the current hero's ally, excluding the hero itself\n",
        "            friends = set(superheroes[ally][\"allies\"]) - set([hero])\n",
        "            allies_friends.setdefault(hero, []).extend(friends)\n",
        "\n",
        "# Printing the original allies\n",
        "print('-'*80)\n",
        "print(f\"{'Original Allies':^80}\")\n",
        "print('-'*80)\n",
        "for hero, details in superheroes.items():\n",
        "    # Printing the allies of each hero\n",
        "    print(f\"{hero:^10} -> {details['allies']}\")\n",
        "\n",
        "# Printing the extended allies (friends)\n",
        "print('-'*80)\n",
        "print(f\"{'The Allies of My Allies are My Friends':^80}\")\n",
        "print('-'*80)\n",
        "for hero, friends in allies_friends.items():\n",
        "    # Printing the extended friends list, excluding duplicates\n",
        "    print(f\"{hero:^10} -> {set(friends)}\")"
      ]
    },
    {
      "cell_type": "markdown",
      "metadata": {
        "id": "xo3z26Qa-dVg"
      },
      "source": [
        "Example 3: Heroes with same superpowers are buddies"
      ]
    },
    {
      "cell_type": "code",
      "execution_count": 60,
      "metadata": {
        "colab": {
          "base_uri": "https://localhost:8080/"
        },
        "id": "LVqGWk2w8NkQ",
        "outputId": "0e73f005-8906-4129-e044-b9f548a0331d"
      },
      "outputs": [
        {
          "output_type": "stream",
          "name": "stdout",
          "text": [
            "--------------------------------------------------------------------------------\n",
            "                    Heroes with same superpowers are buddies                    \n",
            "--------------------------------------------------------------------------------\n",
            "|Superhuman Strength | Wonder Woman, Captain Marvel, Superman, Captain America |\n",
            "--------------------------------------------------------------------------------\n",
            "|   Lasso Of Truth   | Wonder Woman                                            |\n",
            "--------------------------------------------------------------------------------\n",
            "|       Flight       | Wonder Woman, Captain Marvel, Storm, Superman           |\n",
            "--------------------------------------------------------------------------------\n",
            "|     Master Spy     | Black Widow                                             |\n",
            "--------------------------------------------------------------------------------\n",
            "|Hand-To-Hand Combat | Black Widow                                             |\n",
            "--------------------------------------------------------------------------------\n",
            "|     Espionage      | Black Widow                                             |\n",
            "--------------------------------------------------------------------------------\n",
            "| Energy Projection  | Captain Marvel                                          |\n",
            "--------------------------------------------------------------------------------\n",
            "|Weather Manipulation| Storm                                                   |\n",
            "--------------------------------------------------------------------------------\n",
            "| Energy Absorption  | Storm                                                   |\n",
            "--------------------------------------------------------------------------------\n",
            "|    Heat Vision     | Superman                                                |\n",
            "--------------------------------------------------------------------------------\n",
            "|   Wall-Crawling    | Spider-Man                                              |\n",
            "--------------------------------------------------------------------------------\n",
            "|    Spider-Sense    | Spider-Man                                              |\n",
            "--------------------------------------------------------------------------------\n",
            "|    Web-Slinging    | Spider-Man                                              |\n",
            "--------------------------------------------------------------------------------\n",
            "|    Intelligence    | Batman                                                  |\n",
            "--------------------------------------------------------------------------------\n",
            "|       Riches       | Batman                                                  |\n",
            "--------------------------------------------------------------------------------\n",
            "|    Martial Arts    | Batman                                                  |\n",
            "--------------------------------------------------------------------------------\n",
            "|    Regeneration    | Wolverine                                               |\n",
            "--------------------------------------------------------------------------------\n",
            "|  Adamantium Claws  | Wolverine                                               |\n",
            "--------------------------------------------------------------------------------\n",
            "| Heightened Senses  | Wolverine                                               |\n",
            "--------------------------------------------------------------------------------\n",
            "|  Shield Throwing   | Captain America                                         |\n",
            "--------------------------------------------------------------------------------\n",
            "|     Leadership     | Captain America                                         |\n",
            "--------------------------------------------------------------------------------\n"
          ]
        }
      ],
      "source": [
        "# Constructing a dictionary to store superpower buddies\n",
        "superpower_buddies = {}\n",
        "for hero, details in superheroes.items():\n",
        "    powers = details[\"powers\"]\n",
        "    for power in powers:\n",
        "        superpower_buddies.setdefault(power, []).append(hero)\n",
        "\n",
        "\n",
        "# Printing the superpower buddies dictionary\n",
        "print('-'*80)\n",
        "print(f\"{'Heroes with same superpowers are buddies':^80}\")\n",
        "print('-'*80)\n",
        "for power, buddies in superpower_buddies.items():\n",
        "    print(f\"|{power.title():^20}| {', '.join(buddies):<56}|\")\n",
        "    print('-'*80)"
      ]
    },
    {
      "cell_type": "markdown",
      "metadata": {
        "id": "xYHXEixT-ieJ"
      },
      "source": [
        "Example 4: Sorting superheroes by debut year"
      ]
    },
    {
      "cell_type": "code",
      "execution_count": 20,
      "metadata": {
        "colab": {
          "base_uri": "https://localhost:8080/"
        },
        "id": "zY_nrec98_e3",
        "outputId": "4a00e59a-4a20-46ec-d810-502b88296ce5"
      },
      "outputs": [
        {
          "output_type": "stream",
          "name": "stdout",
          "text": [
            "------------------------------\n",
            " Heroes sorted by debut year  \n",
            "------------------------------\n",
            "   Superhero    |   Debut Year   \n",
            "------------------------------\n",
            "Superman        |      1938      \n",
            "Batman          |      1939      \n",
            "Wonder Woman    |      1941      \n",
            "Captain America |      1941      \n",
            "Spider-Man      |      1962      \n",
            "Black Widow     |      1964      \n",
            "Captain Marvel  |      1968      \n",
            "Wolverine       |      1974      \n",
            "Storm           |      1975      \n",
            "------------------------------\n"
          ]
        }
      ],
      "source": [
        "# Creating a sorted list of keys based on debut year\n",
        "debut_dict = {key: superheroes[key][\"debut\"] for key in superheroes.keys()}\n",
        "sorted_keys = sorted(debut_dict.keys(), key=debut_dict.get)\n",
        "\n",
        "# Printing the table of superheroes sorted by debut year\n",
        "print('-'*30)\n",
        "print(f\"{'Heroes sorted by debut year':^30}\")\n",
        "print('-'*30)\n",
        "print(f\"{'Superhero':^15} | {'Debut Year':^15}\")\n",
        "print('-'*30)\n",
        "for key in sorted_keys:\n",
        "    print(f\"{key:<15} | {superheroes[key]['debut']:^15}\")\n",
        "print('-'*30)\n"
      ]
    },
    {
      "cell_type": "markdown",
      "metadata": {
        "id": "T9Vw5ixTCXhv"
      },
      "source": [
        "*** END OF CHAPTER ***"
      ]
    }
  ],
  "metadata": {
    "colab": {
      "provenance": []
    },
    "kernelspec": {
      "display_name": "Python 3",
      "name": "python3"
    },
    "language_info": {
      "name": "python"
    }
  },
  "nbformat": 4,
  "nbformat_minor": 0
}