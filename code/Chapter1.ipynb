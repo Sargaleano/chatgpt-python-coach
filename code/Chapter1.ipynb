{
  "nbformat": 4,
  "nbformat_minor": 0,
  "metadata": {
    "colab": {
      "provenance": []
    },
    "kernelspec": {
      "name": "python3",
      "display_name": "Python 3"
    },
    "language_info": {
      "name": "python"
    }
  },
  "cells": [
    {
      "cell_type": "markdown",
      "source": [
        "#ChatGPT: Your Python Coach\n",
        "## Chapter 1: Know your basics\n",
        "\n",
        "\n",
        "**Write the classic \"Hello, World!\" program in Python and explain it. Provide the output as well. I will be using Colab.**"
      ],
      "metadata": {
        "id": "gxpx1zPEhG7J"
      }
    },
    {
      "cell_type": "code",
      "execution_count": null,
      "metadata": {
        "colab": {
          "base_uri": "https://localhost:8080/"
        },
        "id": "uUr-4nKWgnEq",
        "outputId": "c329feec-5b9b-4e1c-e4a8-5c616db36d06"
      },
      "outputs": [
        {
          "output_type": "stream",
          "name": "stdout",
          "text": [
            "Hello, World!\n"
          ]
        }
      ],
      "source": [
        "print(\"Hello, World!\")"
      ]
    },
    {
      "cell_type": "markdown",
      "source": [
        "**Explain what a syntax error is and demonstrate 3 possible syntax errors in the 'Hello, World!' program with their respective outputs.**"
      ],
      "metadata": {
        "id": "RMoCvZvv4C3f"
      }
    },
    {
      "cell_type": "code",
      "source": [
        "print(\"Hello, World!\""
      ],
      "metadata": {
        "colab": {
          "base_uri": "https://localhost:8080/",
          "height": 133
        },
        "id": "nf1nDgW74W_e",
        "outputId": "70dcac0b-02b8-45e3-f247-18f575e096c7"
      },
      "execution_count": null,
      "outputs": [
        {
          "output_type": "error",
          "ename": "SyntaxError",
          "evalue": "ignored",
          "traceback": [
            "\u001b[0;36m  File \u001b[0;32m\"<ipython-input-2-4459da64a047>\"\u001b[0;36m, line \u001b[0;32m1\u001b[0m\n\u001b[0;31m    print(\"Hello, World!\"\u001b[0m\n\u001b[0m                         ^\u001b[0m\n\u001b[0;31mSyntaxError\u001b[0m\u001b[0;31m:\u001b[0m unexpected EOF while parsing\n"
          ]
        }
      ]
    },
    {
      "cell_type": "code",
      "source": [
        "prnt(\"Hello, World!\")"
      ],
      "metadata": {
        "colab": {
          "base_uri": "https://localhost:8080/",
          "height": 169
        },
        "id": "jQepxLcY4cVG",
        "outputId": "38035d29-c7f2-45ab-9a99-53af898874aa"
      },
      "execution_count": null,
      "outputs": [
        {
          "output_type": "error",
          "ename": "NameError",
          "evalue": "ignored",
          "traceback": [
            "\u001b[0;31m---------------------------------------------------------------------------\u001b[0m",
            "\u001b[0;31mNameError\u001b[0m                                 Traceback (most recent call last)",
            "\u001b[0;32m<ipython-input-3-6b3f763bfcaf>\u001b[0m in \u001b[0;36m<cell line: 1>\u001b[0;34m()\u001b[0m\n\u001b[0;32m----> 1\u001b[0;31m \u001b[0mprnt\u001b[0m\u001b[0;34m(\u001b[0m\u001b[0;34m\"Hello, World!\"\u001b[0m\u001b[0;34m)\u001b[0m\u001b[0;34m\u001b[0m\u001b[0;34m\u001b[0m\u001b[0m\n\u001b[0m",
            "\u001b[0;31mNameError\u001b[0m: name 'prnt' is not defined"
          ]
        }
      ]
    },
    {
      "cell_type": "code",
      "source": [
        "print(Hello, World!)"
      ],
      "metadata": {
        "colab": {
          "base_uri": "https://localhost:8080/",
          "height": 133
        },
        "id": "-2hCDAdT4kzJ",
        "outputId": "b9efd105-6031-4d90-f5ac-34917e6bda48"
      },
      "execution_count": null,
      "outputs": [
        {
          "output_type": "error",
          "ename": "SyntaxError",
          "evalue": "ignored",
          "traceback": [
            "\u001b[0;36m  File \u001b[0;32m\"<ipython-input-4-0eb003ed9968>\"\u001b[0;36m, line \u001b[0;32m1\u001b[0m\n\u001b[0;31m    print(Hello, World!)\u001b[0m\n\u001b[0m                      ^\u001b[0m\n\u001b[0;31mSyntaxError\u001b[0m\u001b[0;31m:\u001b[0m invalid syntax\n"
          ]
        }
      ]
    },
    {
      "cell_type": "markdown",
      "source": [
        "**Explain in a simple way what a string is, the syntax rules for defining strings in Python.**\n",
        "\n"
      ],
      "metadata": {
        "id": "o9kzVM4J4p3S"
      }
    },
    {
      "cell_type": "code",
      "source": [
        "my_string = \"Hello, World!\"\n",
        "print(my_string)"
      ],
      "metadata": {
        "colab": {
          "base_uri": "https://localhost:8080/"
        },
        "id": "eiLeOGLk4qsf",
        "outputId": "f34b129a-66c1-4d95-fbdb-a7060f60a09c"
      },
      "execution_count": null,
      "outputs": [
        {
          "output_type": "stream",
          "name": "stdout",
          "text": [
            "Hello, World!\n"
          ]
        }
      ]
    },
    {
      "cell_type": "code",
      "source": [
        "string1 = \"This is a string using double quotes\"\n",
        "string2 = 'This is a string using single quotes'\n",
        "string3 = \"This string contains numbers and symbols: $5.99\"\n",
        "print(string1, string2, string3, sep='\\n')"
      ],
      "metadata": {
        "colab": {
          "base_uri": "https://localhost:8080/"
        },
        "id": "e9Tob06U5S4W",
        "outputId": "f500e64e-fd40-46b2-a575-075f7a783faa"
      },
      "execution_count": null,
      "outputs": [
        {
          "output_type": "stream",
          "name": "stdout",
          "text": [
            "This is a string using double quotes\n",
            "This is a string using single quotes\n",
            "This string contains numbers and symbols: $5.99\n"
          ]
        }
      ]
    },
    {
      "cell_type": "code",
      "source": [
        "multi_line_string = \"\"\"This is a\n",
        "multi-line\n",
        "string\"\"\"\n",
        "print(multi_line_string)"
      ],
      "metadata": {
        "colab": {
          "base_uri": "https://localhost:8080/"
        },
        "id": "yP_eWPMi7d4c",
        "outputId": "b46d433a-b48f-4613-9274-7a1e43c04aed"
      },
      "execution_count": null,
      "outputs": [
        {
          "output_type": "stream",
          "name": "stdout",
          "text": [
            "This is a\n",
            "multi-line\n",
            "string\n"
          ]
        }
      ]
    },
    {
      "cell_type": "code",
      "source": [
        "escaped_string = \"This string contains a new line.\\nHere's the next line.\\n\\tAnd here's another line indented with a tab to the right.\"\n",
        "print(escaped_string)"
      ],
      "metadata": {
        "colab": {
          "base_uri": "https://localhost:8080/"
        },
        "id": "BJIYc3uA7lnn",
        "outputId": "8c2380f5-46c6-4ee1-91a2-833856ab5f63"
      },
      "execution_count": null,
      "outputs": [
        {
          "output_type": "stream",
          "name": "stdout",
          "text": [
            "This string contains a new line.\n",
            "Here's the next line.\n",
            "\tAnd here's another line indented with a tab to the right.\n"
          ]
        }
      ]
    },
    {
      "cell_type": "markdown",
      "source": [
        "**Explain string formatting in simple terms. Write fun code examples for each of the formatting options.**"
      ],
      "metadata": {
        "id": "raaoJu_7ejk8"
      }
    },
    {
      "cell_type": "code",
      "source": [
        "# f-strings\n",
        "name = \"Alice\"\n",
        "age = 30\n",
        "print(f\"{name} is {age} years old and loves Python!\")  # Alice is 30 years old and loves Python!\n",
        "\n",
        "# str.format()\n",
        "food = \"pizza\"\n",
        "price = 10.99\n",
        "print(\"I love {0}, it costs ${1:.2f} per slice.\".format(food, price))  # I love pizza, it costs $10.99 per slice.\n",
        "\n",
        "# % operator\n",
        "city = \"Paris\"\n",
        "country = \"France\"\n",
        "print(\"I'd love to visit %s in %s someday.\" % (city, country))  # I'd love to visit Paris in France someday.\n",
        "\n",
        "# concatenation\n",
        "print('Hello, ' + 'World' + '!')"
      ],
      "metadata": {
        "colab": {
          "base_uri": "https://localhost:8080/"
        },
        "id": "r2Ba8ppDej6u",
        "outputId": "37ab77a8-a723-4d84-a71e-d03587428427"
      },
      "execution_count": null,
      "outputs": [
        {
          "output_type": "stream",
          "name": "stdout",
          "text": [
            "Alice is 30 years old and loves Python!\n",
            "I love pizza, it costs $10.99 per slice.\n",
            "I'd love to visit Paris in France someday.\n",
            "Hello, World!\n"
          ]
        }
      ]
    },
    {
      "cell_type": "markdown",
      "source": [
        "**Ok. Now provide an example of a program using only print() commands with a real-world analogy.**"
      ],
      "metadata": {
        "id": "wTP9_IXSipwI"
      }
    },
    {
      "cell_type": "code",
      "source": [
        "# Example program: \"Cooking Pancakes\"\n",
        "# This program demonstrates the steps for cooking pancakes\n",
        "\n",
        "print(\"-\"*20 + \" Cooking Pancakes \" + \"-\"*20)\n",
        "print(\"Step 1: Mix the pancake batter.\")\n",
        "print(\"Step 2: Heat the griddle or frying pan on medium heat.\")\n",
        "print(\"Step 3: Pour batter onto the griddle or frying pan, using a 1/4 cup measuring cup.\")\n",
        "print(\"Step 4: Cook for 1-2 minutes, until the edges start to dry and the surface is bubbly.\")\n",
        "print(\"Step 5: Flip the pancake with a spatula, and cook for an additional 1-2 minutes on the other side.\")\n",
        "print(\"Step 6: Remove the pancake from the griddle or frying pan and place on a plate.\")\n",
        "print(\"Step 7: Repeat steps 3-6 for the remaining batter.\")\n",
        "print(\"Step 8: Serve with your favorite toppings, such as butter and syrup.\")"
      ],
      "metadata": {
        "colab": {
          "base_uri": "https://localhost:8080/"
        },
        "id": "G1ecGhKAiqJl",
        "outputId": "a8150a3d-6936-4fc2-de6e-b9d717cb2370"
      },
      "execution_count": null,
      "outputs": [
        {
          "output_type": "stream",
          "name": "stdout",
          "text": [
            "-------------------- Cooking Pancakes --------------------\n",
            "Step 1: Mix the pancake batter.\n",
            "Step 2: Heat the griddle or frying pan on medium heat.\n",
            "Step 3: Pour batter onto the griddle or frying pan, using a 1/4 cup measuring cup.\n",
            "Step 4: Cook for 1-2 minutes, until the edges start to dry and the surface is bubbly.\n",
            "Step 5: Flip the pancake with a spatula, and cook for an additional 1-2 minutes on the other side.\n",
            "Step 6: Remove the pancake from the griddle or frying pan and place on a plate.\n",
            "Step 7: Repeat steps 3-6 for the remaining batter.\n",
            "Step 8: Serve with your favorite toppings, such as butter and syrup.\n"
          ]
        }
      ]
    },
    {
      "cell_type": "markdown",
      "source": [
        "**Can I use formatting options such as width and alignment to build strings? Show me engaging examples.**"
      ],
      "metadata": {
        "id": "DaAEBojg_o80"
      }
    },
    {
      "cell_type": "markdown",
      "source": [
        "Centered Text: You can center a string by using the `{:^width}` pattern to indicate center alignment and specifying the width. Notice how the expression `'-'*8` is used to repeatedly print the character \"`-`\"."
      ],
      "metadata": {
        "id": "D91E4x1uAi8E"
      }
    },
    {
      "cell_type": "code",
      "source": [
        "text = \"Hello, World!\"\n",
        "centered_text = f\"|{text:^40}|\"\n",
        "print('-'*8, centered_text, '-'*8)"
      ],
      "metadata": {
        "colab": {
          "base_uri": "https://localhost:8080/"
        },
        "id": "ellOW6YN_pdn",
        "outputId": "262c2220-8c86-4172-84ff-421adc33842c"
      },
      "execution_count": null,
      "outputs": [
        {
          "output_type": "stream",
          "name": "stdout",
          "text": [
            "-------- |             Hello, World!              | --------\n"
          ]
        }
      ]
    },
    {
      "cell_type": "markdown",
      "source": [
        "Left-aligned Text: You can left-align a string by using the `{:<width}` pattern to indicate left alignment and specifying the width."
      ],
      "metadata": {
        "id": "fi_OR1iBAmO8"
      }
    },
    {
      "cell_type": "code",
      "source": [
        "name = \"John\"\n",
        "age = 30\n",
        "job = \"Engineer\"\n",
        "output = f\"|Name: {name:<10}|Age: {age:<5}|Job: {job:<10}|\"\n",
        "print(output)\n"
      ],
      "metadata": {
        "colab": {
          "base_uri": "https://localhost:8080/"
        },
        "id": "7dYzjjt0B9zm",
        "outputId": "158350b4-0d56-41dc-edad-2e8ba8c30103"
      },
      "execution_count": null,
      "outputs": [
        {
          "output_type": "stream",
          "name": "stdout",
          "text": [
            "|Name: John      |Age: 30   |Job: Engineer  |\n"
          ]
        }
      ]
    },
    {
      "cell_type": "markdown",
      "source": [
        "Right-aligned Text: You can right-align a string by using the `{:>width}` pattern to indicate right alignment and specifying the width."
      ],
      "metadata": {
        "id": "u1HnlkEDC9-d"
      }
    },
    {
      "cell_type": "code",
      "source": [
        "name = \"Sarah\"\n",
        "age = 28\n",
        "job = \"Designer\"\n",
        "output = f\"|Name: {name:>10}|Age: {age:>5}|Job: {job:>10}|\"\n",
        "print(output)"
      ],
      "metadata": {
        "colab": {
          "base_uri": "https://localhost:8080/"
        },
        "id": "JAIVTrEmC_MO",
        "outputId": "b5eca611-d42a-4f5e-ffbd-9a00cc63743b"
      },
      "execution_count": null,
      "outputs": [
        {
          "output_type": "stream",
          "name": "stdout",
          "text": [
            "|Name:      Sarah|Age:    28|Job:   Designer|\n"
          ]
        }
      ]
    },
    {
      "cell_type": "markdown",
      "source": [
        "Truncated Text: You can truncate a string by specifying the maximum width, using the pattern `{:.width}` within the placeholder."
      ],
      "metadata": {
        "id": "19k-JDAsDkAq"
      }
    },
    {
      "cell_type": "code",
      "source": [
        "text = \"This is a very long string that needs to be truncated\"\n",
        "truncated_text = f\"{text:.20}\"\n",
        "print(truncated_text+\"...\")\n"
      ],
      "metadata": {
        "colab": {
          "base_uri": "https://localhost:8080/"
        },
        "id": "O_JtP2jFDk6M",
        "outputId": "d4674567-f18e-4c05-956e-925095f64f70"
      },
      "execution_count": null,
      "outputs": [
        {
          "output_type": "stream",
          "name": "stdout",
          "text": [
            "This is a very long ...\n"
          ]
        }
      ]
    },
    {
      "cell_type": "markdown",
      "source": [
        "Zero-padded Numbers: You can zero-pad a number by using the pattern `{:0width}` character to indicate zero-padding and specifying the width."
      ],
      "metadata": {
        "id": "DWOhnf4kFS-p"
      }
    },
    {
      "cell_type": "code",
      "source": [
        "number = 42\n",
        "padded_number = f\"{number:05}\"\n",
        "print(padded_number)\n"
      ],
      "metadata": {
        "colab": {
          "base_uri": "https://localhost:8080/"
        },
        "id": "rtrYuPoYFTuT",
        "outputId": "3c55fe07-6c1d-4517-96cb-7d157d298741"
      },
      "execution_count": null,
      "outputs": [
        {
          "output_type": "stream",
          "name": "stdout",
          "text": [
            "00042\n"
          ]
        }
      ]
    },
    {
      "cell_type": "markdown",
      "source": [
        "Padding and decimal places: To format a floating-point number with a specific number of decimal places and padding, using the pattern `{:width.precisionf}`."
      ],
      "metadata": {
        "id": "UafGjN74IA3A"
      }
    },
    {
      "cell_type": "code",
      "source": [
        "num = 3.14159\n",
        "formatted_num = \"{:08.2f}\".format(num)\n",
        "print(\"The formatted number is:\", formatted_num)\n"
      ],
      "metadata": {
        "colab": {
          "base_uri": "https://localhost:8080/"
        },
        "id": "Sxy1NNqgIBBn",
        "outputId": "17c88452-7280-46cb-c14e-95c6a0b74f42"
      },
      "execution_count": null,
      "outputs": [
        {
          "output_type": "stream",
          "name": "stdout",
          "text": [
            "The formatted number is: 00003.14\n"
          ]
        }
      ]
    },
    {
      "cell_type": "markdown",
      "source": [
        "**I'd like to put what I've just learned about print() and string formatting into practice. Please provide four code exercises where I need to fix the errors to make them run correctly.**"
      ],
      "metadata": {
        "id": "-s14eBSR0KWs"
      }
    },
    {
      "cell_type": "markdown",
      "source": [
        "Exercise 1:"
      ],
      "metadata": {
        "id": "2wI7aToBVB9h"
      }
    },
    {
      "cell_type": "code",
      "source": [
        "print(Hello, World!)"
      ],
      "metadata": {
        "colab": {
          "base_uri": "https://localhost:8080/",
          "height": 133
        },
        "id": "U8Z8_iJ90WUF",
        "outputId": "48df6b90-cca0-4f41-efa5-9eee715d6b03"
      },
      "execution_count": null,
      "outputs": [
        {
          "output_type": "error",
          "ename": "SyntaxError",
          "evalue": "ignored",
          "traceback": [
            "\u001b[0;36m  File \u001b[0;32m\"<ipython-input-2-0eb003ed9968>\"\u001b[0;36m, line \u001b[0;32m1\u001b[0m\n\u001b[0;31m    print(Hello, World!)\u001b[0m\n\u001b[0m                      ^\u001b[0m\n\u001b[0;31mSyntaxError\u001b[0m\u001b[0;31m:\u001b[0m invalid syntax\n"
          ]
        }
      ]
    },
    {
      "cell_type": "markdown",
      "source": [
        "Exercise 2:"
      ],
      "metadata": {
        "id": "H8OHalUnVDnE"
      }
    },
    {
      "cell_type": "code",
      "source": [
        "message = \"I have {} apples\"\n",
        "print(message+format(5))\n"
      ],
      "metadata": {
        "colab": {
          "base_uri": "https://localhost:8080/"
        },
        "id": "p0lJl9Oy55bH",
        "outputId": "a96cdea8-4ee0-4e86-e55c-b4f3acf09d43"
      },
      "execution_count": null,
      "outputs": [
        {
          "output_type": "stream",
          "name": "stdout",
          "text": [
            "I have {} apples5\n"
          ]
        }
      ]
    },
    {
      "cell_type": "markdown",
      "source": [
        "Exercise 3:"
      ],
      "metadata": {
        "id": "kGmgtKLrVGT3"
      }
    },
    {
      "cell_type": "code",
      "source": [
        "name = input(\"What is your name? \")\n",
        "age = input(\"How old are you? \")\n",
        "print(\"Your name is {} and you are {} years old.\"format(name, age))"
      ],
      "metadata": {
        "colab": {
          "base_uri": "https://localhost:8080/",
          "height": 133
        },
        "id": "RmAPEpre6tlG",
        "outputId": "349861f0-a949-4dcc-8ffa-5e7fa2e3b701"
      },
      "execution_count": null,
      "outputs": [
        {
          "output_type": "error",
          "ename": "SyntaxError",
          "evalue": "ignored",
          "traceback": [
            "\u001b[0;36m  File \u001b[0;32m\"<ipython-input-5-48d4c4ea2082>\"\u001b[0;36m, line \u001b[0;32m3\u001b[0m\n\u001b[0;31m    print(\"Your name is {} and you are {} years old.\"format(name, age))\u001b[0m\n\u001b[0m          ^\u001b[0m\n\u001b[0;31mSyntaxError\u001b[0m\u001b[0;31m:\u001b[0m invalid syntax. Perhaps you forgot a comma?\n"
          ]
        }
      ]
    },
    {
      "cell_type": "markdown",
      "source": [
        "Exercise 4:"
      ],
      "metadata": {
        "id": "rOXHOEr7VHyf"
      }
    },
    {
      "cell_type": "code",
      "source": [
        "number = 42\n",
        "print(\"The answer is {.10}\".format(number))"
      ],
      "metadata": {
        "colab": {
          "base_uri": "https://localhost:8080/",
          "height": 187
        },
        "id": "t50ygTPS6vgl",
        "outputId": "772a8a95-dcf7-48f5-fafd-0f9de874c344"
      },
      "execution_count": null,
      "outputs": [
        {
          "output_type": "error",
          "ename": "AttributeError",
          "evalue": "ignored",
          "traceback": [
            "\u001b[0;31m---------------------------------------------------------------------------\u001b[0m",
            "\u001b[0;31mAttributeError\u001b[0m                            Traceback (most recent call last)",
            "\u001b[0;32m<ipython-input-7-98faa5d01264>\u001b[0m in \u001b[0;36m<cell line: 2>\u001b[0;34m()\u001b[0m\n\u001b[1;32m      1\u001b[0m \u001b[0mnumber\u001b[0m \u001b[0;34m=\u001b[0m \u001b[0;36m42\u001b[0m\u001b[0;34m\u001b[0m\u001b[0;34m\u001b[0m\u001b[0m\n\u001b[0;32m----> 2\u001b[0;31m \u001b[0mprint\u001b[0m\u001b[0;34m(\u001b[0m\u001b[0;34m\"The answer is {.10}\"\u001b[0m\u001b[0;34m.\u001b[0m\u001b[0mformat\u001b[0m\u001b[0;34m(\u001b[0m\u001b[0mnumber\u001b[0m\u001b[0;34m)\u001b[0m\u001b[0;34m)\u001b[0m\u001b[0;34m\u001b[0m\u001b[0;34m\u001b[0m\u001b[0m\n\u001b[0m",
            "\u001b[0;31mAttributeError\u001b[0m: 'int' object has no attribute '10'"
          ]
        }
      ]
    },
    {
      "cell_type": "markdown",
      "source": [
        "**Below is the code I wrote to solve the exercise: Create a program that prints a right triangle using the character.**\n",
        "\n",
        "\n"
      ],
      "metadata": {
        "id": "eFA_bxhHCND_"
      }
    },
    {
      "cell_type": "code",
      "source": [
        "print('* ')\n",
        "print('* ' * 2)\n",
        "print('* ' * 3)\n",
        "print('* ' * 4)\n",
        "print('* ' * 5)"
      ],
      "metadata": {
        "colab": {
          "base_uri": "https://localhost:8080/"
        },
        "id": "g4RQtJd3COgC",
        "outputId": "f5035869-cd98-49a3-933c-21f53e2f86e3"
      },
      "execution_count": null,
      "outputs": [
        {
          "output_type": "stream",
          "name": "stdout",
          "text": [
            "* \n",
            "* * \n",
            "* * * \n",
            "* * * * \n",
            "* * * * * \n"
          ]
        }
      ]
    },
    {
      "cell_type": "markdown",
      "source": [
        "*** END OF CHAPTER ***"
      ],
      "metadata": {
        "id": "T9Vw5ixTCXhv"
      }
    }
  ]
}